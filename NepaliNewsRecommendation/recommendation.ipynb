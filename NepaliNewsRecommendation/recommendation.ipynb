{
 "cells": [
  {
   "cell_type": "markdown",
   "id": "beac8660-ac23-42ef-bdca-712db387979c",
   "metadata": {},
   "source": [
    "# Nepali News Recommendation"
   ]
  },
  {
   "cell_type": "code",
   "execution_count": 1,
   "id": "2eda10c4-41c3-40e4-b06b-1d74a4777f03",
   "metadata": {
    "tags": []
   },
   "outputs": [],
   "source": [
    "import warnings\n",
    "warnings.filterwarnings(\"ignore\")"
   ]
  },
  {
   "cell_type": "markdown",
   "id": "572fe1d6-c20c-4943-8564-be5fc5753165",
   "metadata": {
    "id": "572fe1d6-c20c-4943-8564-be5fc5753165"
   },
   "source": [
    "# Loading the data"
   ]
  },
  {
   "cell_type": "code",
   "execution_count": 69,
   "id": "dda38685-2bc5-45b9-a560-9ce2b33611b0",
   "metadata": {
    "id": "dda38685-2bc5-45b9-a560-9ce2b33611b0",
    "tags": []
   },
   "outputs": [],
   "source": [
    "import pandas as pd\n",
    "import matplotlib.pyplot as plt\n",
    "import seaborn as sns"
   ]
  },
  {
   "cell_type": "code",
   "execution_count": 70,
   "id": "8f8362ff-26ef-4b30-adeb-09a0b9005933",
   "metadata": {
    "id": "8f8362ff-26ef-4b30-adeb-09a0b9005933",
    "tags": []
   },
   "outputs": [],
   "source": [
    "df = pd.read_csv(r\"C:\\Users\\neupa\\Desktop\\CodeHimalaya_Interview\\nepali-news-dataset.csv\", encoding='utf-8')"
   ]
  },
  {
   "cell_type": "code",
   "execution_count": 71,
   "id": "3b3207eb-215e-4199-b30c-6be289d0c285",
   "metadata": {
    "id": "3b3207eb-215e-4199-b30c-6be289d0c285",
    "tags": []
   },
   "outputs": [],
   "source": [
    "df.drop('Unnamed: 0', axis = 1, inplace = True)"
   ]
  },
  {
   "cell_type": "code",
   "execution_count": 72,
   "id": "8dff2270-dd3b-4fb9-bd44-e55b552b9887",
   "metadata": {
    "colab": {
     "base_uri": "https://localhost:8080/",
     "height": 423
    },
    "id": "8dff2270-dd3b-4fb9-bd44-e55b552b9887",
    "outputId": "6f7c4df0-a520-4105-9d92-5dc893eb36eb",
    "tags": []
   },
   "outputs": [
    {
     "data": {
      "text/html": [
       "<div>\n",
       "<style scoped>\n",
       "    .dataframe tbody tr th:only-of-type {\n",
       "        vertical-align: middle;\n",
       "    }\n",
       "\n",
       "    .dataframe tbody tr th {\n",
       "        vertical-align: top;\n",
       "    }\n",
       "\n",
       "    .dataframe thead th {\n",
       "        text-align: right;\n",
       "    }\n",
       "</style>\n",
       "<table border=\"1\" class=\"dataframe\">\n",
       "  <thead>\n",
       "    <tr style=\"text-align: right;\">\n",
       "      <th></th>\n",
       "      <th>content</th>\n",
       "      <th>heading</th>\n",
       "      <th>main_topic</th>\n",
       "    </tr>\n",
       "  </thead>\n",
       "  <tbody>\n",
       "    <tr>\n",
       "      <th>0</th>\n",
       "      <td>कालीगण्डकी करिडोरमा पर्ने सेती भिरमा लरी प्लेट...</td>\n",
       "      <td>कालीगण्डकी करिडोरमा पर्ने सेती भिरबाट ट्रक खस्...</td>\n",
       "      <td>accidents</td>\n",
       "    </tr>\n",
       "    <tr>\n",
       "      <th>1</th>\n",
       "      <td>ट्याक्टर दुर्घटना हुँदा बैतडीमा दुई जनाको मृत्...</td>\n",
       "      <td>ट्याक्टर दुर्घटना हुँदा दुई जनाको घटनास्थलमै म...</td>\n",
       "      <td>accidents</td>\n",
       "    </tr>\n",
       "    <tr>\n",
       "      <th>2</th>\n",
       "      <td>भक्तपुरमा आज बिहान सवारी दुर्घटना हँदा एक जनाक...</td>\n",
       "      <td>भक्तपुरमा भैंसी बोकेको ट्रक दुर्घटना, ढोकाले च...</td>\n",
       "      <td>accidents</td>\n",
       "    </tr>\n",
       "    <tr>\n",
       "      <th>3</th>\n",
       "      <td>बैतडी बिहीवार ट्याक्टर दुर्घटना हुँदा चालकको घ...</td>\n",
       "      <td>ट्याक्टर दुर्घटना हुुँदा चालकको मृत्यु</td>\n",
       "      <td>accidents</td>\n",
       "    </tr>\n",
       "    <tr>\n",
       "      <th>4</th>\n",
       "      <td>बैतडीको सुनर्या गाउँपालिका–७ आलुगैरामा जिप दुर...</td>\n",
       "      <td>बैतडीमा जिप दुर्घटना : चालकको घटनास्थलमै मृत्य...</td>\n",
       "      <td>accidents</td>\n",
       "    </tr>\n",
       "    <tr>\n",
       "      <th>...</th>\n",
       "      <td>...</td>\n",
       "      <td>...</td>\n",
       "      <td>...</td>\n",
       "    </tr>\n",
       "    <tr>\n",
       "      <th>61340</th>\n",
       "      <td>काठमाडौँ । मेगा बैंक नेपाल लिमिटेडले ‘मेगा रेम...</td>\n",
       "      <td>मेगा बैंकले ल्यायो हातैमा रेमिट्यान्स</td>\n",
       "      <td>wealth</td>\n",
       "    </tr>\n",
       "    <tr>\n",
       "      <th>61341</th>\n",
       "      <td>काठमाडौं । नेपालको विश्वसनीय इलेक्ट्रोनिक्स ब्...</td>\n",
       "      <td>सामसङ QLED टिभिको प्रि–बुकिङ्ग खुल्ला</td>\n",
       "      <td>wealth</td>\n",
       "    </tr>\n",
       "    <tr>\n",
       "      <th>61342</th>\n",
       "      <td>नेपाल राष्ट्र बैंकले २०७७ असोज मसान्तभित्रमा ए...</td>\n",
       "      <td>बैंकहरूले सार्वजनिक गरे स्थिर ब्याजदर, कसको कति ?</td>\n",
       "      <td>wealth</td>\n",
       "    </tr>\n",
       "    <tr>\n",
       "      <th>61343</th>\n",
       "      <td>काठमाडौं । साना–साना गल्ली, गल्लीभित्र सानो पस...</td>\n",
       "      <td>चम्किँदै सस्तो बजार, ब्रान्डेड सामान बेच्नेहरु...</td>\n",
       "      <td>wealth</td>\n",
       "    </tr>\n",
       "    <tr>\n",
       "      <th>61344</th>\n",
       "      <td>काठमाडौं । डिजिटल फन्ड ट्रान्फरको दुनियाँमा कन...</td>\n",
       "      <td>फन्ड ट्रान्फरमा लोकप्रिय बन्दै ‘कनेक्ट आईपीएस’</td>\n",
       "      <td>wealth</td>\n",
       "    </tr>\n",
       "  </tbody>\n",
       "</table>\n",
       "<p>61345 rows × 3 columns</p>\n",
       "</div>"
      ],
      "text/plain": [
       "                                                 content  \\\n",
       "0      कालीगण्डकी करिडोरमा पर्ने सेती भिरमा लरी प्लेट...   \n",
       "1      ट्याक्टर दुर्घटना हुँदा बैतडीमा दुई जनाको मृत्...   \n",
       "2      भक्तपुरमा आज बिहान सवारी दुर्घटना हँदा एक जनाक...   \n",
       "3      बैतडी बिहीवार ट्याक्टर दुर्घटना हुँदा चालकको घ...   \n",
       "4      बैतडीको सुनर्या गाउँपालिका–७ आलुगैरामा जिप दुर...   \n",
       "...                                                  ...   \n",
       "61340  काठमाडौँ । मेगा बैंक नेपाल लिमिटेडले ‘मेगा रेम...   \n",
       "61341  काठमाडौं । नेपालको विश्वसनीय इलेक्ट्रोनिक्स ब्...   \n",
       "61342  नेपाल राष्ट्र बैंकले २०७७ असोज मसान्तभित्रमा ए...   \n",
       "61343  काठमाडौं । साना–साना गल्ली, गल्लीभित्र सानो पस...   \n",
       "61344  काठमाडौं । डिजिटल फन्ड ट्रान्फरको दुनियाँमा कन...   \n",
       "\n",
       "                                                 heading main_topic  \n",
       "0      कालीगण्डकी करिडोरमा पर्ने सेती भिरबाट ट्रक खस्...  accidents  \n",
       "1      ट्याक्टर दुर्घटना हुँदा दुई जनाको घटनास्थलमै म...  accidents  \n",
       "2      भक्तपुरमा भैंसी बोकेको ट्रक दुर्घटना, ढोकाले च...  accidents  \n",
       "3                 ट्याक्टर दुर्घटना हुुँदा चालकको मृत्यु  accidents  \n",
       "4      बैतडीमा जिप दुर्घटना : चालकको घटनास्थलमै मृत्य...  accidents  \n",
       "...                                                  ...        ...  \n",
       "61340              मेगा बैंकले ल्यायो हातैमा रेमिट्यान्स     wealth  \n",
       "61341              सामसङ QLED टिभिको प्रि–बुकिङ्ग खुल्ला     wealth  \n",
       "61342  बैंकहरूले सार्वजनिक गरे स्थिर ब्याजदर, कसको कति ?     wealth  \n",
       "61343  चम्किँदै सस्तो बजार, ब्रान्डेड सामान बेच्नेहरु...     wealth  \n",
       "61344     फन्ड ट्रान्फरमा लोकप्रिय बन्दै ‘कनेक्ट आईपीएस’     wealth  \n",
       "\n",
       "[61345 rows x 3 columns]"
      ]
     },
     "execution_count": 72,
     "metadata": {},
     "output_type": "execute_result"
    }
   ],
   "source": [
    "df"
   ]
  },
  {
   "cell_type": "markdown",
   "id": "404aaa74-8ecf-4a47-8fb9-5ce332f678a8",
   "metadata": {},
   "source": [
    "<b> I initially tried using the entire data for calculating cosine similarities. But, due to the lack of enough memory, I decided to use 250 samples from each class and use this subset to perform recommendations."
   ]
  },
  {
   "cell_type": "code",
   "execution_count": 73,
   "id": "d112492b-1bbc-40cf-a73e-5d10fea3aad0",
   "metadata": {
    "tags": []
   },
   "outputs": [],
   "source": [
    "df = df.groupby('main_topic').apply(lambda x: x.sample(n=250, random_state=42)).reset_index(drop=True)"
   ]
  },
  {
   "cell_type": "code",
   "execution_count": 74,
   "id": "37008557-e018-4d42-a611-1f4fe2de3c7b",
   "metadata": {
    "tags": []
   },
   "outputs": [
    {
     "data": {
      "text/plain": [
       "main_topic\n",
       "accidents             250\n",
       "auto                  250\n",
       "corporate             250\n",
       "entertainment         250\n",
       "film                  250\n",
       "finance               250\n",
       "health                250\n",
       "interview             250\n",
       "literature            250\n",
       "migration             250\n",
       "national              250\n",
       "opinion               250\n",
       "politics              250\n",
       "science_technology    250\n",
       "society               250\n",
       "sports                250\n",
       "tourism               250\n",
       "wealth                250\n",
       "Name: content, dtype: int64"
      ]
     },
     "execution_count": 74,
     "metadata": {},
     "output_type": "execute_result"
    }
   ],
   "source": [
    "df.groupby('main_topic')['content'].size()"
   ]
  },
  {
   "cell_type": "code",
   "execution_count": 75,
   "id": "a71cb421-4035-4e4a-8520-0aa01874550d",
   "metadata": {
    "tags": []
   },
   "outputs": [],
   "source": [
    "df.to_csv(\"Sampled_Data.csv\", index = True)"
   ]
  },
  {
   "cell_type": "code",
   "execution_count": 76,
   "id": "cebc205c-c2b5-416c-b619-dfe0cb19e572",
   "metadata": {
    "colab": {
     "base_uri": "https://localhost:8080/"
    },
    "id": "cebc205c-c2b5-416c-b619-dfe0cb19e572",
    "outputId": "624ad20f-7e80-4b55-96a6-bdeb71aea30a",
    "tags": []
   },
   "outputs": [
    {
     "data": {
      "text/plain": [
       "array([['अन्तर्राष्ट्रिय युवा दिवस १९९९ देखि विश्भरिका राष्ट्रहरूले उत्सवका रूपमा मनाउँदै आइरहेका छन् । संयुक्त राष्ट्र संघले युवाका मुद्धाहरूलाई स्थापित गर्न प्रत्येक १२ अगस्टलाई अन्तर्राष्ट्रिय युवा दिवसका रूपमा\\xa0 घोषणा गरेको छ । युवाका सवालहरूमा विश्वका सरकार तथा सरोकारवालालाई सचेत तथा जगारूक गरान यो दिवसको घोषण गरिएको हो । \\n \\nविगतका वर्षहरूमा विभिन्न युवा सम्बन्धी नाराहरूतया गरी मनाइँदै आइरहेको यो दिवसको यस वर्ष अर्थात २०१५ को नाराका रूपमा युवा नागरिक सहभागिता रहेको छ । यस वर्षको अन्तर्राष्ट्रिय युवा दिवसको नारालाई नेपालीपनसँग जोड्नको युवा तथा खेलकुद मन्त्रालयले तय गरेको ‘पुननिर्माणमा युवाको सार्थक सहभागिताू विषयक नारा नेपालको सन्दर्भमा बढी सान्दर्भिक देखिन्छ । सामान्य अर्थमा व्यक्तिलाई उमेरका आधारमा गरिने पहिचानअनुरुप वाल्यावस्था पार गरिसकेका र प्रौढावस्थामा पुगिनसकेका समूहका व्यक्तिलाई युवा भनिन्छ । युवा त्यो उमेर समूह हो जसमा राष्ट्रको भविष्यका कर्णाधार वर्तमानका साझेदार तथा विकास र परिवर्तनका संवाहकको सामथ्र्य रहेको हुन्छ । राष्ट्र निर्माणमा सबै उमेर र अवस्थाका व्यक्तिहरुको भूमिका महत्वपूर्ण मानिने सन्दर्भमा युवाहरुको भूमिकालाई अझ अर्थपूर्ण र क्रियाशील रुपमा हेरिन्छ । युवालाई सिर्जनशील, सीपयुक्त, उद्यमी र जिम्मेवार नागरिकको रुपमा विकसित हुने अवसर राज्यले सृजना गर्नुपर्दछ । हरेक देशमा भएका आर्थिक, सामाजिक, राजनीतिक परिवर्तनमा युवा शक्तिको निर्णायक सहभागिताका कारण परिवर्तन संभव भएबाट राज्यले निर्माण गर्ने कानून, नीति एवं कार्यक्रममा युवा र उनीहरुका सरोकारका विषय सम्बोधन हुन आवश्यक मानिन्छ । युवालाई राज्य सञ्चालन प्रकृयामा समावेश गर्न नसकेमा राष्ट्रले उनीहरुको उर्जा र प्रतिभाबाट लाभ लिनुको सट्टा कुलत, विकृति, द्वन्द्व र अस्थिरताको सामना गर्नुपर्ने स्थिति आउन सक्छ । नेपालमा ०६८ को जनगणना अनुसार नेपालमा १६ देखि ४० वर्षका युवावर्गको संख्या ४०.३५ प्रतिशत रहेकोे छ । त्यसैगरी १६ देखि ३५ वर्षका युवा समूह ३४.३६ प्रतिशत रहेको छ भने १५ देखि २९ वर्षका युवा २७.८ प्रतिशत र १५ वर्ष मूनिको जनसंख्या हेर्दा झण्डै ३४.८ प्रतिशत छ । राष्ट्रिय युवा नीति ०६६ को कार्यान्वयनका लागि युथ भिजन २०२५, निर्माण हुनु, राष्ट्रिय युवा परिषद गठनको विधयक संसदबाट पास हुनु युवाहरुको लागि निश्चय नै सुखदको कुरा हो । तर,\\xa0 अझै पनि राज्यको नीति निर्माण र निर्णय प्रक्रियामा सार्थक सहभागिता सुनिश्चित हुन सकिरहेको छैन । देशले प्राकृतिक विपदको सामना गरिरहँदा आम युवाहरु उदार, राहत र पुननिर्माणमा सहभागी भए । मुलुकको आर्थिक, सामाजिक, राजनीतिक र शैक्षिक क्षेत्रमा युवाहरुको सक्रिय सहभागिता रहेको छ । कृषि तथा उत्पादनमूलक क्षेत्र र श्रम क्षेत्रमा पनि युवाहरुको उपस्थिति ठूलो छ । अध्ययन, रोजगारी, जीविकोपार्जन र अवसरको खोजीका लागि धेरै युवाहरु शहर केन्द्रित मात्र होइन विदेश पलायन भएको यथार्थता हाम्रो सामु टड्कारो रुपमा छ । विगतमा युवा र उनीहरुका सरोकारका बिषयलाई राज्यका नीति, कानून एवं कार्यक्रमले सहीरुपमा सम्बोधन गर्न नसक्दा अवसरको खोजीमा विदेश जाने र उतै पलायन हुने समस्याले विज्ञ र विशेषज्ञको सेवा एवं उर्जाबाट मुलुक स्वयं वञ्चित हुन पुगेको छ । रोजगार बजारमा उपलब्ध दक्ष र योग्य युवालाई देशभित्र अवसर सृजना गर्न नसक्नुको मुख्य कारण जनशक्तिको माग र शिक्षाबीच सामञ्जस्य कायम हुन नसक्दा धेरै युवाहरु बेरोजगार हुनु परेको र त्यसको समाधानका लागि विदेशिने गरेको पाइन्छ । विश्वमा नै युवा अधिकारको बारेमा चिन्तनको शुरुवात सन् १९३० को दशकमा देखा परेको विश्व आर्थिक मन्दिरबाट शुरु भएको पाइन्छ । विश्वलाई आर्थिक मन्दीबाट बचाउन युवाको जोश, जागर र प्रतिभाको भरपुर सदुपयोग गर्नुपर्ने आवश्यकता बोध हुन थालेपछि युवा अधिकार र अन्तरपुस्ता समन्वयको अवधारणाले मूर्त रुप लिएको हो । द्वितीय विश्वयुद्धपछि संयुक्त राष्ट्र संघको स्थापना भई अन्तर्राष्ट्रिय मानव अधिकार कानूनको विकाससँगै युवा अधिकारबारे राष्ट्रभित्र पनि चिन्तन र बहस शुरु भएको पाइन्छ । \\nविश्वकै पहिलो लिखित संविधानको रुपमा रहेको संयुक्त राज्य अमेरिकाको संविधानमा युवाका अधिकार जस्ता सामुहिक प्रकृतिका अधिकारको व्यवस्था रहेको पाइँदैन । संविधानको चौधौं संशोधनले पनि नागरिकलाई कानूनको समान संरक्षणबाट वन्चित नगरिने व्यवस्थाले सारवान समानताको सिद्धान्तलाई अंगीकार गरेको देखिन्छ । संयुक्त राज्य अमेरिकामा सन् १९३० को दशकमा स्थापना भएको राष्ट्रिय युवा अधिकार संगठन पहिलो संगठनका रुपमा रहेको संस्थाले विश्वभरका युवाको अधिकार सम्बन्धमा वकालत गर्नुको साथै\\xa0 पिस फायर नामक अमेरिकाको युवा संगठनले युवा अधिकारकर्मीलाई प्राविधिक सहयोग उपलब्ध गराउँछ । भारतको संविधानले राज्यका निर्देशक सिद्धान्त र नीति अन्तर्गत धारा ३९ (च) मा राज्यले बालबालिकाहरुलाई उनीहरुको विकासका लागि अवसर र लाभहरु प्रदान गर्नुका साथै स्वतन्त्रता र मर्यादाको अभिवृद्धि गर्ने र युवा तथा बालबालिकालाई शोषण र नैतिकता विपरितका कार्य हुनबाट संरक्षण गर्नु राज्यको कर्तव्य हुने व्यवस्था गरिएको छ । संविधानको ४२ औं संशोधनबाट साविकको व्यवस्थामा केही परिमार्जन गरी यस प्रकारको व्यवस्था गरेको देखिन्छ । जनवादी गणतन्त्र चीनको संविधानको धारा २१(२) ले राज्यले जनताको शारीरिक विकासका लागि आम खेलकूद कार्यक्रमको विकास गर्ने व्यवस्थाको साथै शिक्षासम्बन्धी अधिकार अन्तर्गत धारा ४६(२) मा राज्यले बालबालिका तथा युवाको शारीरिक, मानसिक तथा नैतिक विकास गर्ने व्यवस्था गरेको पाइन्छ । त्यसै गरी धारा ४९ (३) मा बाबु आमाले बालबालिकाको रेखदेख र शिक्षा दीक्षा दिनु पर्ने तथा बालबालिका जवान भएपछि बाबु आमालाई हेरचाह र मद्दत गर्नु निजहरुको कर्तव्य हुने व्यवस्था गरेको देखिन्छ । स्वीस महासंघको संविधानको भाग ३ सामाजिक लक्ष्य अन्तर्गत धारा ४१(१) (च) र (छ) मा युवा सम्बन्धी व्यवस्था गरिएको छ । युवा तथा बालबालिका र काम गर्ने उमेरका मानिसहरुले आˆनो क्षमता अनुसार शिक्षा हासिल गर्ने अवसर प्राप्त गर्ने र युवा तथा बालबालिकालाई स्वतन्त्र र समाजप्रति उत्तरदायी नागरिक बनाउनका लागि सामाजिक, राजनीतिक र साँस्कृतिक रुपमा राज्यले सहयोग र प्रोत्साहन गर्ने व्यवस्था गरिएको छ । पछिल्ला समयमा बनेका संविधानमध्ये युवा अधिकारका वारेमा सन् १९९२ को प्रजातान्त्रिक गणतन्त्र भियतनामको संविधानले गरेको व्यवस्था सान्दर्भिक देखिन्छ । सो संविधानको धारा ६६ मा परिवार, समाज र राज्यले युवाहरुलाई अध्ययन गर्न, काम गर्न, आराम गर्न, मानसिक तथा शारीरिक विकास गर्न, नैतिक शिक्षा प्रदान गरी राष्ट्रिय परम्परा, समाजवादका आदर्श र मातृभुमिको रक्षाका लागि नागरिक सचेतना फैलाउन युवाहरुलाई अनुकूल वातावरण सृजना गर्ने व्यवस्था गरेको पाइन्छ । \\nयुवा अधिकारका सम्बन्धमा लोकतन्त्र प्राप्ति पूर्वका संविधानमा स्पष्ट उल्लेख भएको पाइदैन । राज्यका नीति, कानून एवं कार्यक्रमहरुले युवाका सरोकारका विषयमा प्राथमिकतासाथ उल्लेख गर्न सकेको देखिँदैन । यद्यपि युवा मन्त्रालयको स्थापना, राष्ट्रिय योजना आयोगद्वारा सञ्चालित राष्ट्रिय विकास स्वयंसेवक सेवा आयोजना, युवाहरुलाई वौद्धिक, सामाजिक, भावनात्मक विकास तथा नागरिक शिक्षामा जोड, युवा स्वरोजगार कार्यक्रम जस्ता युवा केन्दि्रत केही कार्यक्रमहरु सञ्चालन भएको पाइन्छ । गैरसरकारी क्षेत्रबाट पनि युवाहरुमा चेतना अभिवृद्धि, सशक्तीकरण, दुर्व्यसन रोकथाम, पुनस्र्थपना, व्यवसायिक सीप विकास, युवा संस्था, युवा क्लब आदि मार्फत युवाहरुमा हौसला प्रदान गरिएको छ । नेपाल प्रहरीमा युवा महिला सहभागिता रहेको र पहिलो पटक सेनामा पनि महिलालाई प्रवेश दिइएको\\xa0 छ । लोकतन्त्रको प्राप्ति पश्चात बनेको नेपालको अन्तरिम संविधान २०६३ ले राज्यका निर्देशक सिद्धान्त र नीति अन्तर्गत धारा ३५ (२०) ले राज्यका नीतिहरुमा युवा जनशक्तिलाई देश विकासमा परिचालन गर्न राज्यले विशेष नीति अवलम्व गर्ने व्यवस्था गरेको छ । युवा जनशक्ति देशको आर्थिक सामाजिक र राजनीतिक रुपान्तरणका संवाहक हुन । युवाहरुलाई आर्थिक, सामाजिक, राजनीतिक र साँस्कृतिक जीवनमा अर्थपूर्ण सहभागिता र नेतृत्व विकासका माध्यमबाट राष्ट्रिय विकासको मूलप्रवाहमा समाहित गरी सर्वाङ्गीण राष्ट्रिय विकास गर्नु जरुरी छ । नेपालको सन्दर्भमा युवा अधिकारका सवालहरु देहाय बमोजिम छन् :- \\n \\n \\n \\n \\n \\n \\n \\n \\n युवाहरु राष्ट्रका भविष्य हुन् । जुनसुकै देशमा हुने हरेक प्रकारका परिवर्तनहरुमा युवाहरुको प्रमुख भूमिका\\xa0 रहन्छ । युवाहरु वास्तविक अर्थमा समाज परिवर्तनका संवाहक शक्ति हुन । देशको राजनीतिक, आर्थिक, सामाजिक, सांस्कृतिक लगायत देशको समग्र विकासमा युवाको प्रमुख भूमिका रहने भएको र हुनु पर्ने भएकोले युवा राष्ट्र निर्माणका पूर्वाधार हुन् ।\\xa0 देशको जानसांख्यिक तथा श्रम शक्तिको दृष्टिले सबै भन्दा बढी र सबल क्षेत्रको रुपमा रहेको युवा शक्तिको सही रुपमा पहिचान र उपयोग हुन सकेको छैन । देशमा शिक्षा, रोजगारी तथा अन्य अवसरहरुको अभावमा देशको प्रमुख उर्जाको रुपमा रहेका युवाहरु विभिन्न कारणले पलायन हुने अवस्था ज्यादै विचारणीय पक्ष रहेको छ । युवाहरुले विदेशमा गएर कमाएर पठाएको विप्रेषणको रकम तत्काललाई नेपालको अर्थतन्त्रको मेरुदण्डको रुपमा रहेको भए तापनि यस्तो श्रम शक्तिलाई स्वदेशमा नै परिचालन गर्ने प्रयास हुन नसकेमा भविष्यमा यसबाट देशले ठूलो नोक्सानी व्यहोर्नु पर्ने निश्चित छ । सहभागिता र अवसरका दृष्टिले नेपालका युवाहरुको अवस्था सन्तोषप्रद छैन । त्यसमा पनि महिलाहरुको अवस्था अझ नाजुक रहेको छ । युवाका विभिन्न अधिकारहरुलाई सही रुपमा संवधोन गरी उनीहरुको ज्ञान, सीप र अनुभव, र सिर्जनशीलतालाई राष्ट्रिय विकासमा मूलप्रवाहिकरण गर्ने तर्फ राष्ट्रका नीति तथा कार्यक्रमहरु निर्देशित हुनु जरुरी छ । युवालाई सिर्जनशील, सीपयुक्त, उद्यमी र जिम्मेवार नागरिकका रुपमा विकसित हुने अवसर राज्यले प्रदान गर्नका लागि संविधानले युवाका चासोहरुलाई समुचित ढङ्गले संबोधन गर्न आवश्यक देखिन्छ । यसका लागि राष्ट्रिय स्वतन्त्रता, न्याय र शान्ति स्थापनाका लागि युवा शक्तिको परिचालन, देशको समग्र क्षेत्रमा युवाको समानुपातिक सहभागीता, युवाहरु बीच अवसर र रोजगारीका समान अवसर, विदेशमा रहने युवाहरुको संरक्षण र सम्बर्द्धनको व्यवस्था, राष्ट्रिय विकासमा युवाका ज्ञान, सीप र क्षमताको उपयोग जस्ता विषयहरु प्रमुख रुपमा संविधानले संवोधन गर्नु उपयुक्त हुने देखिन्छ । O युवाशक्ति देशको राजनीतिक, आर्थिक, सामाजिक, साँस्कृतिक रुपमान्तरणका संवाहक भएकोले सार्वजनिक नीति चक्रका सबै तहमा युवाको सार्थक सहभागिता सुनिश्चित गर्नु आवश्यक छ । O\\xa0 युवाहरुलाई नेतृत्व विकासको माध्यमबाट राष्ट्रिय विकासको मूलधारमा नसमेटी सर्वाङ्गण्िा राष्टि्रय विकासको परिकलपना सार्थक नहुने भएकोले खेलकूद, नैतिक शिक्षा, वातावरण संरक्षण, देशको आर्थिक विकास लगायतका क्षेत्रमा युवाहरुको प्रवर्द्धन र प्रोत्साहन जरुरी छ । O\\xa0 विज्ञान र प्रविधि तथा वैज्ञानिक अध्ययन, अनुसन्धान र अन्वेषण्मा युवाहरुलाई प्रोत्साहित गर्दै युवाहरुको प्रतिभा पलायन र श्रमबजारको खोजीमा विदेशीने अवस्थालाई अन्त्य गर्नु आवश्यक देखिन्छ । O\\xa0 रोजगारी, क्षमता विकास र उद्यमशीलताको विकास मार्फत सर्वाङ्गीण राष्ट्रिय विकासको लागि प्राविधि र व्यवसायिक शिक्षाको अधिकारलाई सुनिश्चित गर्नु आवश्यक देखिन्छ । अतः देश अहिले संविधान निर्माणको गतिमा अघि बढिरहेको छ । आम नागरिकहरु आफ्नो हक अधिकारको संबैधानिक सुनिश्चिताका लागि पहल गरिरहेका छन । सख्यात्मक र गुणात्मक सहभागिता हुँदाहुदै पनि युवाहरुको हक अधिकार अब बन्ने नयाँ संविधानमा पनि त्यति समेटिएको पाइदैन । यसका लागि राज्य सञ्चालकहरु जिम्मेवार हुन जरुरी छ । अन्तराष्ट्रिय युवा दिवसको नारालाई सार्थकताका लागि पनि युवाहरुलाई राज्यका सबै तह तथा निकायमा समान सहभागिता सुनिश्चित गर्नुका साथै संविधानमै युवाको हक अधिकार स्थापित गर्नु आजको आवश्यकता हो । \\n  )',\n",
       "        'अन्तर्राष्ट्रिय युवा दिवस र युवा अधिकार', 'opinion']],\n",
       "      dtype=object)"
      ]
     },
     "execution_count": 76,
     "metadata": {},
     "output_type": "execute_result"
    }
   ],
   "source": [
    "df.sample(1, random_state = 1).values"
   ]
  },
  {
   "cell_type": "code",
   "execution_count": 77,
   "id": "0fbdfb2c-60d6-4f7e-af4d-3f0aa355afea",
   "metadata": {
    "colab": {
     "base_uri": "https://localhost:8080/"
    },
    "id": "0fbdfb2c-60d6-4f7e-af4d-3f0aa355afea",
    "outputId": "def02afa-d81d-4694-9ebe-c05c3b7ddbcc",
    "tags": []
   },
   "outputs": [
    {
     "data": {
      "text/plain": [
       "((4500, 3), (4500, 3))"
      ]
     },
     "execution_count": 77,
     "metadata": {},
     "output_type": "execute_result"
    }
   ],
   "source": [
    "df.shape, df.drop_duplicates().shape"
   ]
  },
  {
   "cell_type": "markdown",
   "id": "71f6603e-f55b-4bf8-8194-d5c8f5ec5463",
   "metadata": {
    "id": "71f6603e-f55b-4bf8-8194-d5c8f5ec5463"
   },
   "source": [
    "Good to know that there are no duplicates in the dataset."
   ]
  },
  {
   "cell_type": "code",
   "execution_count": 78,
   "id": "2d03aec0-c1f0-4db7-892a-44ae1b3b6512",
   "metadata": {
    "colab": {
     "base_uri": "https://localhost:8080/",
     "height": 613
    },
    "id": "2d03aec0-c1f0-4db7-892a-44ae1b3b6512",
    "outputId": "a1099677-27c9-4b3e-8dd6-4e241acb9dea",
    "tags": []
   },
   "outputs": [
    {
     "data": {
      "text/html": [
       "<div>\n",
       "<style scoped>\n",
       "    .dataframe tbody tr th:only-of-type {\n",
       "        vertical-align: middle;\n",
       "    }\n",
       "\n",
       "    .dataframe tbody tr th {\n",
       "        vertical-align: top;\n",
       "    }\n",
       "\n",
       "    .dataframe thead th {\n",
       "        text-align: right;\n",
       "    }\n",
       "</style>\n",
       "<table border=\"1\" class=\"dataframe\">\n",
       "  <thead>\n",
       "    <tr style=\"text-align: right;\">\n",
       "      <th></th>\n",
       "      <th>main_topic</th>\n",
       "      <th>count</th>\n",
       "    </tr>\n",
       "  </thead>\n",
       "  <tbody>\n",
       "    <tr>\n",
       "      <th>17</th>\n",
       "      <td>wealth</td>\n",
       "      <td>250</td>\n",
       "    </tr>\n",
       "    <tr>\n",
       "      <th>2</th>\n",
       "      <td>tourism</td>\n",
       "      <td>250</td>\n",
       "    </tr>\n",
       "    <tr>\n",
       "      <th>3</th>\n",
       "      <td>sports</td>\n",
       "      <td>250</td>\n",
       "    </tr>\n",
       "    <tr>\n",
       "      <th>4</th>\n",
       "      <td>society</td>\n",
       "      <td>250</td>\n",
       "    </tr>\n",
       "    <tr>\n",
       "      <th>5</th>\n",
       "      <td>science_technology</td>\n",
       "      <td>250</td>\n",
       "    </tr>\n",
       "    <tr>\n",
       "      <th>6</th>\n",
       "      <td>politics</td>\n",
       "      <td>250</td>\n",
       "    </tr>\n",
       "    <tr>\n",
       "      <th>7</th>\n",
       "      <td>opinion</td>\n",
       "      <td>250</td>\n",
       "    </tr>\n",
       "    <tr>\n",
       "      <th>8</th>\n",
       "      <td>national</td>\n",
       "      <td>250</td>\n",
       "    </tr>\n",
       "    <tr>\n",
       "      <th>9</th>\n",
       "      <td>migration</td>\n",
       "      <td>250</td>\n",
       "    </tr>\n",
       "    <tr>\n",
       "      <th>10</th>\n",
       "      <td>literature</td>\n",
       "      <td>250</td>\n",
       "    </tr>\n",
       "    <tr>\n",
       "      <th>11</th>\n",
       "      <td>interview</td>\n",
       "      <td>250</td>\n",
       "    </tr>\n",
       "    <tr>\n",
       "      <th>12</th>\n",
       "      <td>health</td>\n",
       "      <td>250</td>\n",
       "    </tr>\n",
       "    <tr>\n",
       "      <th>13</th>\n",
       "      <td>finance</td>\n",
       "      <td>250</td>\n",
       "    </tr>\n",
       "    <tr>\n",
       "      <th>14</th>\n",
       "      <td>film</td>\n",
       "      <td>250</td>\n",
       "    </tr>\n",
       "    <tr>\n",
       "      <th>15</th>\n",
       "      <td>entertainment</td>\n",
       "      <td>250</td>\n",
       "    </tr>\n",
       "    <tr>\n",
       "      <th>16</th>\n",
       "      <td>corporate</td>\n",
       "      <td>250</td>\n",
       "    </tr>\n",
       "    <tr>\n",
       "      <th>1</th>\n",
       "      <td>auto</td>\n",
       "      <td>250</td>\n",
       "    </tr>\n",
       "    <tr>\n",
       "      <th>0</th>\n",
       "      <td>accidents</td>\n",
       "      <td>250</td>\n",
       "    </tr>\n",
       "  </tbody>\n",
       "</table>\n",
       "</div>"
      ],
      "text/plain": [
       "            main_topic  count\n",
       "17              wealth    250\n",
       "2              tourism    250\n",
       "3               sports    250\n",
       "4              society    250\n",
       "5   science_technology    250\n",
       "6             politics    250\n",
       "7              opinion    250\n",
       "8             national    250\n",
       "9            migration    250\n",
       "10          literature    250\n",
       "11           interview    250\n",
       "12              health    250\n",
       "13             finance    250\n",
       "14                film    250\n",
       "15       entertainment    250\n",
       "16           corporate    250\n",
       "1                 auto    250\n",
       "0            accidents    250"
      ]
     },
     "execution_count": 78,
     "metadata": {},
     "output_type": "execute_result"
    }
   ],
   "source": [
    "number_of_articles_per_class = df.main_topic.value_counts().reset_index()\n",
    "number_of_articles_per_class.sort_values(\"main_topic\", ascending = False, inplace = True)\n",
    "number_of_articles_per_class"
   ]
  },
  {
   "cell_type": "code",
   "execution_count": 79,
   "id": "de9e5f1f-1834-49b6-932b-d63032c835cc",
   "metadata": {
    "colab": {
     "base_uri": "https://localhost:8080/",
     "height": 466
    },
    "id": "de9e5f1f-1834-49b6-932b-d63032c835cc",
    "outputId": "93b9fc7f-0908-4fd0-c924-088270aced4e",
    "tags": []
   },
   "outputs": [
    {
     "data": {
      "text/plain": [
       "Text(0, 0.5, 'News category')"
      ]
     },
     "execution_count": 79,
     "metadata": {},
     "output_type": "execute_result"
    },
    {
     "data": {
      "image/png": "[encoded data removed]",
      "text/plain": [
       "<Figure size 640x480 with 1 Axes>"
      ]
     },
     "metadata": {},
     "output_type": "display_data"
    }
   ],
   "source": [
    "ax = plt.subplot()\n",
    "\n",
    "sns.barplot(y = 'main_topic', x = 'count', data = number_of_articles_per_class)\n",
    "plt.xlabel(\"Number of news articles\")\n",
    "plt.ylabel(\"News category\")"
   ]
  },
  {
   "cell_type": "code",
   "execution_count": 80,
   "id": "OvWzAQQRrLqR",
   "metadata": {
    "colab": {
     "base_uri": "https://localhost:8080/",
     "height": 423
    },
    "id": "OvWzAQQRrLqR",
    "outputId": "04a18973-242f-490a-f52b-d4d6aaf56338",
    "tags": []
   },
   "outputs": [
    {
     "data": {
      "text/html": [
       "<div>\n",
       "<style scoped>\n",
       "    .dataframe tbody tr th:only-of-type {\n",
       "        vertical-align: middle;\n",
       "    }\n",
       "\n",
       "    .dataframe tbody tr th {\n",
       "        vertical-align: top;\n",
       "    }\n",
       "\n",
       "    .dataframe thead th {\n",
       "        text-align: right;\n",
       "    }\n",
       "</style>\n",
       "<table border=\"1\" class=\"dataframe\">\n",
       "  <thead>\n",
       "    <tr style=\"text-align: right;\">\n",
       "      <th></th>\n",
       "      <th>content</th>\n",
       "      <th>heading</th>\n",
       "      <th>main_topic</th>\n",
       "    </tr>\n",
       "  </thead>\n",
       "  <tbody>\n",
       "    <tr>\n",
       "      <th>0</th>\n",
       "      <td>सिरहाको कल्याणपुर नगरपालिका बेल्हामा सोमबार रा...</td>\n",
       "      <td>सिरहाको बेल्हामा आगलागी, २३ लाख रुपैयाँ बराबरक...</td>\n",
       "      <td>accidents</td>\n",
       "    </tr>\n",
       "    <tr>\n",
       "      <th>1</th>\n",
       "      <td>मङ्गलबार बर्दियाको ठाकुरबाबा नगरपालिका–३ मानपु...</td>\n",
       "      <td>नहरमा डुबेर बर्दियामा एक बालिकाको मृत्यु</td>\n",
       "      <td>accidents</td>\n",
       "    </tr>\n",
       "    <tr>\n",
       "      <th>2</th>\n",
       "      <td>चितवनको भरतपुरमा तीन दिनदेखि बेपत्ता भएका एक व...</td>\n",
       "      <td>हराएका वृद्ध तीन दिनपछि जङ्गलमा मृत भेटिए</td>\n",
       "      <td>accidents</td>\n",
       "    </tr>\n",
       "    <tr>\n",
       "      <th>3</th>\n",
       "      <td>नवलपरासी पूर्व नवलपुरमा सर्पले टोकेर एक जना वृ...</td>\n",
       "      <td>सर्पले टोकेर ६८ बर्से वृद्धको मृत्यु</td>\n",
       "      <td>accidents</td>\n",
       "    </tr>\n",
       "    <tr>\n",
       "      <th>4</th>\n",
       "      <td>एनेकपा माओवादीकी पूर्वसभासद् बुधनीदेवी महतोलाई...</td>\n",
       "      <td>एमाओवादीका पूर्व सभासद्‍लाई अज्ञात समूहले मरणा...</td>\n",
       "      <td>accidents</td>\n",
       "    </tr>\n",
       "    <tr>\n",
       "      <th>...</th>\n",
       "      <td>...</td>\n",
       "      <td>...</td>\n",
       "      <td>...</td>\n",
       "    </tr>\n",
       "    <tr>\n",
       "      <th>4495</th>\n",
       "      <td>काठमाडौं । नबिल इन्भेष्टमेन्ट बैंङ्किङको ऋणपत्...</td>\n",
       "      <td>प्रभु बैंकको ऋणपत्र निष्काशन तथा बिक्री प्रबन्...</td>\n",
       "      <td>wealth</td>\n",
       "    </tr>\n",
       "    <tr>\n",
       "      <th>4496</th>\n",
       "      <td>काठमाडौं । इजि एस्योरेन्सअन्र्तगतको इजि ट्याक्...</td>\n",
       "      <td>इजि ट्याक्सी प्रयोगकर्ताले माछापुच्छ्रे बैंकको...</td>\n",
       "      <td>wealth</td>\n",
       "    </tr>\n",
       "    <tr>\n",
       "      <th>4497</th>\n",
       "      <td>काठमाडौं । लामो रस्साकस्सीपछि अन्ततः सरकार एउट...</td>\n",
       "      <td>असोज १ देखि लामो रुटका सवारीसाधन सञ्चालन होला ?</td>\n",
       "      <td>wealth</td>\n",
       "    </tr>\n",
       "    <tr>\n",
       "      <th>4498</th>\n",
       "      <td>ललितपुर– विश्वप्रख्यात कोरियन गाडी उत्पादक कम्...</td>\n",
       "      <td>जाउलाखेलमा किया मोटर्सको अत्याधुनिक शोरुम संचा...</td>\n",
       "      <td>wealth</td>\n",
       "    </tr>\n",
       "    <tr>\n",
       "      <th>4499</th>\n",
       "      <td>काठमाडौं– तपाई मोबाइल नेटवर्क नभएको स्थानमा जा...</td>\n",
       "      <td>नेपाल टेलिकमको मिस्ड कल अलर्ट सेवा, अब कुनै पन...</td>\n",
       "      <td>wealth</td>\n",
       "    </tr>\n",
       "  </tbody>\n",
       "</table>\n",
       "<p>4500 rows × 3 columns</p>\n",
       "</div>"
      ],
      "text/plain": [
       "                                                content  \\\n",
       "0     सिरहाको कल्याणपुर नगरपालिका बेल्हामा सोमबार रा...   \n",
       "1     मङ्गलबार बर्दियाको ठाकुरबाबा नगरपालिका–३ मानपु...   \n",
       "2     चितवनको भरतपुरमा तीन दिनदेखि बेपत्ता भएका एक व...   \n",
       "3     नवलपरासी पूर्व नवलपुरमा सर्पले टोकेर एक जना वृ...   \n",
       "4     एनेकपा माओवादीकी पूर्वसभासद् बुधनीदेवी महतोलाई...   \n",
       "...                                                 ...   \n",
       "4495  काठमाडौं । नबिल इन्भेष्टमेन्ट बैंङ्किङको ऋणपत्...   \n",
       "4496  काठमाडौं । इजि एस्योरेन्सअन्र्तगतको इजि ट्याक्...   \n",
       "4497  काठमाडौं । लामो रस्साकस्सीपछि अन्ततः सरकार एउट...   \n",
       "4498  ललितपुर– विश्वप्रख्यात कोरियन गाडी उत्पादक कम्...   \n",
       "4499  काठमाडौं– तपाई मोबाइल नेटवर्क नभएको स्थानमा जा...   \n",
       "\n",
       "                                                heading main_topic  \n",
       "0     सिरहाको बेल्हामा आगलागी, २३ लाख रुपैयाँ बराबरक...  accidents  \n",
       "1              नहरमा डुबेर बर्दियामा एक बालिकाको मृत्यु  accidents  \n",
       "2             हराएका वृद्ध तीन दिनपछि जङ्गलमा मृत भेटिए  accidents  \n",
       "3                  सर्पले टोकेर ६८ बर्से वृद्धको मृत्यु  accidents  \n",
       "4     एमाओवादीका पूर्व सभासद्‍लाई अज्ञात समूहले मरणा...  accidents  \n",
       "...                                                 ...        ...  \n",
       "4495  प्रभु बैंकको ऋणपत्र निष्काशन तथा बिक्री प्रबन्...     wealth  \n",
       "4496  इजि ट्याक्सी प्रयोगकर्ताले माछापुच्छ्रे बैंकको...     wealth  \n",
       "4497    असोज १ देखि लामो रुटका सवारीसाधन सञ्चालन होला ?     wealth  \n",
       "4498  जाउलाखेलमा किया मोटर्सको अत्याधुनिक शोरुम संचा...     wealth  \n",
       "4499  नेपाल टेलिकमको मिस्ड कल अलर्ट सेवा, अब कुनै पन...     wealth  \n",
       "\n",
       "[4500 rows x 3 columns]"
      ]
     },
     "execution_count": 80,
     "metadata": {},
     "output_type": "execute_result"
    }
   ],
   "source": [
    "df"
   ]
  },
  {
   "cell_type": "markdown",
   "id": "28a6d031-157a-419b-9761-9dc9d85da553",
   "metadata": {
    "id": "28a6d031-157a-419b-9761-9dc9d85da553"
   },
   "source": [
    "# Data Cleaning"
   ]
  },
  {
   "cell_type": "code",
   "execution_count": 81,
   "id": "dedf72bb-ad3e-43d0-8c2d-14922d7eb513",
   "metadata": {
    "colab": {
     "base_uri": "https://localhost:8080/",
     "height": 105
    },
    "id": "dedf72bb-ad3e-43d0-8c2d-14922d7eb513",
    "outputId": "2b9133d0-07a8-4536-a4fe-9938d01ba472",
    "tags": []
   },
   "outputs": [
    {
     "data": {
      "text/plain": [
       "'सिरहाको कल्याणपुर नगरपालिका बेल्हामा सोमबार राति खाना पकाउने ग्याँस चुहिएर आगलागी हुँदा करिब २३ लाख रुपैयाँ बराबरको धनमाल क्षति भएको छ ।\\xa0 \\n \\nबेल्हास्थित कमला खोलाको बाँध निर्माण गर्ने मजदुरले खाना पकाउने क्रममा अचानक ग्याँस लिक भएर आगलागी हुँदा बाँध निर्माणमा प्रयोग हुने एक थान जेनेटरलगायतका सामान जलेर नष्ट भएका छन्। \\n \\nप्रहरी चौकी बेल्हाबाट खटिएको प्रहरी टोली र स्थानीयवासीको सहयोगमा आगो नियन्त्रणमा आएको प्रहरीले बताएको छ ।रासस'"
      ]
     },
     "execution_count": 81,
     "metadata": {},
     "output_type": "execute_result"
    }
   ],
   "source": [
    "nepali_sentence = df.content.iloc[0];nepali_sentence"
   ]
  },
  {
   "cell_type": "markdown",
   "id": "8ad0b137-8da8-4a99-a269-efe69fa0e59c",
   "metadata": {
    "id": "8ad0b137-8da8-4a99-a269-efe69fa0e59c"
   },
   "source": [
    "## Converting to lowercase"
   ]
  },
  {
   "cell_type": "markdown",
   "id": "ad8d8760-daf0-45b3-8ac1-ffe2d901ad60",
   "metadata": {
    "id": "ad8d8760-daf0-45b3-8ac1-ffe2d901ad60"
   },
   "source": [
    "In this case, since Nepali characters do not have well-defined uppercase or lowercase forms, the word remains the same in both uppercase and lowercase representations. Unlike in english language where ENGLISH would be uppercase and english would be lowercase, this distictions does not generally apply in nepali words. Therefore this sections will be passed."
   ]
  },
  {
   "cell_type": "code",
   "execution_count": 82,
   "id": "f622c4cc-e7e9-4304-b0ca-66aac8da065d",
   "metadata": {
    "id": "f622c4cc-e7e9-4304-b0ca-66aac8da065d",
    "tags": []
   },
   "outputs": [],
   "source": [
    "def lower_order(text):\n",
    "    return text"
   ]
  },
  {
   "cell_type": "markdown",
   "id": "27cfadc9-8af6-41e4-a62e-8fec250175b4",
   "metadata": {
    "id": "27cfadc9-8af6-41e4-a62e-8fec250175b4"
   },
   "source": [
    "## Removing URLs from the text"
   ]
  },
  {
   "cell_type": "code",
   "execution_count": 83,
   "id": "aab534a3-8000-4a50-9cfb-348057d2584b",
   "metadata": {
    "id": "aab534a3-8000-4a50-9cfb-348057d2584b",
    "tags": []
   },
   "outputs": [],
   "source": [
    "import re\n",
    "def remove_urls(text):\n",
    "    url_pattern = re.compile(r'https?://\\S+|www\\.\\S+')\n",
    "    return url_pattern.sub(r'', text)"
   ]
  },
  {
   "cell_type": "code",
   "execution_count": 84,
   "id": "6b9b922e-8cb5-473f-860e-9f7d10a066ed",
   "metadata": {
    "colab": {
     "base_uri": "https://localhost:8080/",
     "height": 105
    },
    "id": "6b9b922e-8cb5-473f-860e-9f7d10a066ed",
    "outputId": "e21e48a1-dd5a-4069-8409-e3b41fb4b857",
    "tags": []
   },
   "outputs": [
    {
     "data": {
      "text/plain": [
       "'सिरहाको कल्याणपुर नगरपालिका बेल्हामा सोमबार राति खाना पकाउने ग्याँस चुहिएर आगलागी हुँदा करिब २३ लाख रुपैयाँ बराबरको धनमाल क्षति भएको छ ।\\xa0 \\n \\nबेल्हास्थित कमला खोलाको बाँध निर्माण गर्ने मजदुरले खाना पकाउने क्रममा अचानक ग्याँस लिक भएर आगलागी हुँदा बाँध निर्माणमा प्रयोग हुने एक थान जेनेटरलगायतका सामान जलेर नष्ट भएका छन्। \\n \\nप्रहरी चौकी बेल्हाबाट खटिएको प्रहरी टोली र स्थानीयवासीको सहयोगमा आगो नियन्त्रणमा आएको प्रहरीले बताएको छ ।रासस '"
      ]
     },
     "execution_count": 84,
     "metadata": {},
     "output_type": "execute_result"
    }
   ],
   "source": [
    "remove_urls(nepali_sentence+\" https://sujanneupane.com\")"
   ]
  },
  {
   "cell_type": "markdown",
   "id": "f9db2181-59a6-40ef-9894-67b8edb128c0",
   "metadata": {
    "id": "f9db2181-59a6-40ef-9894-67b8edb128c0"
   },
   "source": [
    "This custom function to remove URLs does work."
   ]
  },
  {
   "cell_type": "markdown",
   "id": "c7e169d2-d79d-449f-86e2-8e2904a326ca",
   "metadata": {
    "id": "c7e169d2-d79d-449f-86e2-8e2904a326ca"
   },
   "source": [
    "## Remove HTML tags"
   ]
  },
  {
   "cell_type": "code",
   "execution_count": 85,
   "id": "29968294-1921-4afb-8415-d07650ac74ed",
   "metadata": {
    "id": "29968294-1921-4afb-8415-d07650ac74ed",
    "tags": []
   },
   "outputs": [],
   "source": [
    "def rm_html(text):\n",
    "    return re.sub(r'<[^>]+>', '', text)"
   ]
  },
  {
   "cell_type": "code",
   "execution_count": 86,
   "id": "a110cfa2-6da0-434c-a2ec-51a3bbbb12eb",
   "metadata": {
    "colab": {
     "base_uri": "https://localhost:8080/",
     "height": 105
    },
    "id": "a110cfa2-6da0-434c-a2ec-51a3bbbb12eb",
    "outputId": "e31513cf-b693-4d2a-9428-7d94a74185c6",
    "tags": []
   },
   "outputs": [
    {
     "data": {
      "text/plain": [
       "'सिरहाको कल्याणपुर नगरपालिका बेल्हामा सोमबार राति खाना पकाउने ग्याँस चुहिएर आगलागी हुँदा करिब २३ लाख रुपैयाँ बराबरको धनमाल क्षति भएको छ ।\\xa0 \\n \\nबेल्हास्थित कमला खोलाको बाँध निर्माण गर्ने मजदुरले खाना पकाउने क्रममा अचानक ग्याँस लिक भएर आगलागी हुँदा बाँध निर्माणमा प्रयोग हुने एक थान जेनेटरलगायतका सामान जलेर नष्ट भएका छन्। \\n \\nप्रहरी चौकी बेल्हाबाट खटिएको प्रहरी टोली र स्थानीयवासीको सहयोगमा आगो नियन्त्रणमा आएको प्रहरीले बताएको छ ।रासस '"
      ]
     },
     "execution_count": 86,
     "metadata": {},
     "output_type": "execute_result"
    }
   ],
   "source": [
    "rm_html(nepali_sentence+\" <html><br>\")"
   ]
  },
  {
   "cell_type": "markdown",
   "id": "bea058be-9866-481a-aec3-a8b8e84d270e",
   "metadata": {
    "id": "bea058be-9866-481a-aec3-a8b8e84d270e"
   },
   "source": [
    "## Remove Emojis\n",
    "\n"
   ]
  },
  {
   "cell_type": "code",
   "execution_count": 87,
   "id": "3e6057be-fcad-40a2-ade3-c79462f61e9a",
   "metadata": {
    "id": "3e6057be-fcad-40a2-ade3-c79462f61e9a",
    "tags": []
   },
   "outputs": [],
   "source": [
    "def remove_emoji(string):\n",
    "    emoji_pattern = re.compile(\"[\"\n",
    "                           u\"\\U0001F600-\\U0001F64F\"  # emoticons\n",
    "                           u\"\\U0001F300-\\U0001F5FF\"  # symbols & pictographs\n",
    "                           u\"\\U0001F680-\\U0001F6FF\"  # transport & map symbols\n",
    "                           u\"\\U0001F1E0-\\U0001F1FF\"  # flags (iOS)\n",
    "                           u\"\\U00002702-\\U000027B0\"\n",
    "                           u\"\\U000024C2-\\U0001F251\"\n",
    "                           \"]+\", flags=re.UNICODE)\n",
    "    return emoji_pattern.sub(r' ', string)"
   ]
  },
  {
   "cell_type": "code",
   "execution_count": 88,
   "id": "1616139e-ea9a-4bf9-a94a-b3c336712741",
   "metadata": {
    "colab": {
     "base_uri": "https://localhost:8080/",
     "height": 105
    },
    "id": "1616139e-ea9a-4bf9-a94a-b3c336712741",
    "outputId": "2ff33554-163a-407d-a9a9-7e817972ba16",
    "tags": []
   },
   "outputs": [
    {
     "data": {
      "text/plain": [
       "'सिरहाको कल्याणपुर नगरपालिका बेल्हामा सोमबार राति खाना पकाउने ग्याँस चुहिएर आगलागी हुँदा करिब २३ लाख रुपैयाँ बराबरको धनमाल क्षति भएको छ ।\\xa0 \\n \\nबेल्हास्थित कमला खोलाको बाँध निर्माण गर्ने मजदुरले खाना पकाउने क्रममा अचानक ग्याँस लिक भएर आगलागी हुँदा बाँध निर्माणमा प्रयोग हुने एक थान जेनेटरलगायतका सामान जलेर नष्ट भएका छन्। \\n \\nप्रहरी चौकी बेल्हाबाट खटिएको प्रहरी टोली र स्थानीयवासीको सहयोगमा आगो नियन्त्रणमा आएको प्रहरीले बताएको छ ।रासस 😊 🍕🍕'"
      ]
     },
     "execution_count": 88,
     "metadata": {},
     "output_type": "execute_result"
    }
   ],
   "source": [
    "text_with_emoji =  nepali_sentence+ \" 😊 🍕🍕\"\n",
    "text_with_emoji"
   ]
  },
  {
   "cell_type": "code",
   "execution_count": 89,
   "id": "2e2d75f8-9583-462d-af0a-1b41dc362894",
   "metadata": {
    "colab": {
     "base_uri": "https://localhost:8080/"
    },
    "id": "2e2d75f8-9583-462d-af0a-1b41dc362894",
    "outputId": "fa4690c9-34c0-43b6-9887-17afc69cd8d5",
    "tags": []
   },
   "outputs": [
    {
     "name": "stdout",
     "output_type": "stream",
     "text": [
      "सिरहाको कल्याणपुर नगरपालिका बेल्हामा सोमबार राति खाना पकाउने ग्याँस चुहिएर आगलागी हुँदा करिब २३ लाख रुपैयाँ बराबरको धनमाल क्षति भएको छ ।  \n",
      " \n",
      "बेल्हास्थित कमला खोलाको बाँध निर्माण गर्ने मजदुरले खाना पकाउने क्रममा अचानक ग्याँस लिक भएर आगलागी हुँदा बाँध निर्माणमा प्रयोग हुने एक थान जेनेटरलगायतका सामान जलेर नष्ट भएका छन्। \n",
      " \n",
      "प्रहरी चौकी बेल्हाबाट खटिएको प्रहरी टोली र स्थानीयवासीको सहयोगमा आगो नियन्त्रणमा आएको प्रहरीले बताएको छ ।रासस    \n"
     ]
    }
   ],
   "source": [
    "emoji_removed = remove_emoji(text_with_emoji)\n",
    "print(emoji_removed)"
   ]
  },
  {
   "cell_type": "markdown",
   "id": "0a236b50-0982-44ee-9916-3ccbfb1c8237",
   "metadata": {
    "id": "0a236b50-0982-44ee-9916-3ccbfb1c8237"
   },
   "source": [
    "## Remove Unwanted Characters\n",
    "\n"
   ]
  },
  {
   "cell_type": "code",
   "execution_count": 90,
   "id": "c1079d1b-d4eb-412f-95aa-276f508d0cbf",
   "metadata": {
    "id": "c1079d1b-d4eb-412f-95aa-276f508d0cbf",
    "tags": []
   },
   "outputs": [],
   "source": [
    "def remove_unwanted_characters_nepali(document):\n",
    "    # remove user mentions\n",
    "    document = re.sub(\"@[^\\s]+\", \" \", document)\n",
    "    # remove hashtags\n",
    "    document = re.sub(\"#[^\\s]+\", \"\", document)\n",
    "    # remove punctuation (except for Nepali Unicode characters)\n",
    "    document = re.sub(\"[^\\u0900-\\u097F0-9A-Za-z\\s]\", \"\", document)\n",
    "    # remove emojis\n",
    "    document = remove_emoji(document)\n",
    "    \n",
    "    # remove double spaces\n",
    "    document = document.replace('  ', \"\")\n",
    "    document = re.sub(r\"[^\\w\\s]\", \"\", document)\n",
    "    return document.strip()"
   ]
  },
  {
   "cell_type": "code",
   "execution_count": 91,
   "id": "65c90e4e-aa20-4e32-af2e-a07d5c2e948d",
   "metadata": {
    "colab": {
     "base_uri": "https://localhost:8080/",
     "height": 105
    },
    "id": "65c90e4e-aa20-4e32-af2e-a07d5c2e948d",
    "outputId": "2ccdbdd9-68a0-413f-bde1-609e01a2593f",
    "tags": []
   },
   "outputs": [
    {
     "data": {
      "text/plain": [
       "'सिरहाको कल्याणपुर नगरपालिका बेल्हामा सोमबार राति खाना पकाउने ग्याँस चुहिएर आगलागी हुँदा करिब २३ लाख रुपैयाँ बराबरको धनमाल क्षति भएको छ ।\\xa0 \\n \\nबेल्हास्थित कमला खोलाको बाँध निर्माण गर्ने मजदुरले खाना पकाउने क्रममा अचानक ग्याँस लिक भएर आगलागी हुँदा बाँध निर्माणमा प्रयोग हुने एक थान जेनेटरलगायतका सामान जलेर नष्ट भएका छन्। \\n \\nप्रहरी चौकी बेल्हाबाट खटिएको प्रहरी टोली र स्थानीयवासीको सहयोगमा आगो नियन्त्रणमा आएको प्रहरीले बताएको छ ।रासस @! #'"
      ]
     },
     "execution_count": 91,
     "metadata": {},
     "output_type": "execute_result"
    }
   ],
   "source": [
    "text = nepali_sentence +\" @! #\";text"
   ]
  },
  {
   "cell_type": "code",
   "execution_count": 92,
   "id": "cf11a1b8-16fc-45ec-a09a-a6f5e56ef5ba",
   "metadata": {
    "colab": {
     "base_uri": "https://localhost:8080/",
     "height": 88
    },
    "id": "cf11a1b8-16fc-45ec-a09a-a6f5e56ef5ba",
    "outputId": "a92b5384-224c-40ec-963f-e69d630b18d9",
    "tags": []
   },
   "outputs": [
    {
     "data": {
      "text/plain": [
       "'सरहक कलयणपर नगरपलक बलहम समबर रत खन पकउन गयस चहएर आगलग हद करब २३ लख रपय बरबरक धनमल कषत भएक छ \\xa0 \\n \\nबलहसथत कमल खलक बध नरमण गरन मजदरल खन पकउन करमम अचनक गयस लक भएर आगलग हद बध नरमणम परयग हन एक थन जनटरलगयतक समन जलर नषट भएक छन \\n \\nपरहर चक बलहबट खटएक परहर टल र सथनयवसक सहयगम आग नयनतरणम आएक परहरल बतएक छ रसस'"
      ]
     },
     "execution_count": 92,
     "metadata": {},
     "output_type": "execute_result"
    }
   ],
   "source": [
    "remove_unwanted_characters_nepali(text)"
   ]
  },
  {
   "cell_type": "markdown",
   "id": "45c04e20-0976-4207-8e35-36f40da8a680",
   "metadata": {
    "id": "45c04e20-0976-4207-8e35-36f40da8a680"
   },
   "source": [
    "## Remove unnecessary whitespaces"
   ]
  },
  {
   "cell_type": "code",
   "execution_count": 93,
   "id": "50fa7aad-df10-4326-9100-b748b09b654e",
   "metadata": {
    "id": "50fa7aad-df10-4326-9100-b748b09b654e",
    "tags": []
   },
   "outputs": [],
   "source": [
    "def rm_whitespaces(text):\n",
    "    return re.sub(r' +', ' ', text)"
   ]
  },
  {
   "cell_type": "code",
   "execution_count": 94,
   "id": "6b953823-3406-49cf-b657-463a0f0a3ce1",
   "metadata": {
    "colab": {
     "base_uri": "https://localhost:8080/",
     "height": 105
    },
    "id": "6b953823-3406-49cf-b657-463a0f0a3ce1",
    "outputId": "4e4b46a4-a101-4805-b694-28cda2424b4f",
    "tags": []
   },
   "outputs": [
    {
     "data": {
      "text/plain": [
       "'सिरहाको कल्याणपुर नगरपालिका बेल्हामा सोमबार राति खाना पकाउने ग्याँस चुहिएर आगलागी हुँदा करिब २३ लाख रुपैयाँ बराबरको धनमाल क्षति भएको छ ।\\xa0 \\n \\nबेल्हास्थित कमला खोलाको बाँध निर्माण गर्ने मजदुरले खाना पकाउने क्रममा अचानक ग्याँस लिक भएर आगलागी हुँदा बाँध निर्माणमा प्रयोग हुने एक थान जेनेटरलगायतका सामान जलेर नष्ट भएका छन्। \\n \\nप्रहरी चौकी बेल्हाबाट खटिएको प्रहरी टोली र स्थानीयवासीको सहयोगमा आगो नियन्त्रणमा आएको प्रहरीले बताएको छ ।रासस New whitespaces were added before this english sentence'"
      ]
     },
     "execution_count": 94,
     "metadata": {},
     "output_type": "execute_result"
    }
   ],
   "source": [
    "rm_whitespaces(nepali_sentence+\"           \"+\"New whitespaces were added before this english sentence\")"
   ]
  },
  {
   "cell_type": "markdown",
   "id": "87b9cf62-7258-43f5-96a6-36af9d678ef3",
   "metadata": {
    "id": "87b9cf62-7258-43f5-96a6-36af9d678ef3"
   },
   "source": [
    "## Remove Punctutations\n",
    "\n"
   ]
  },
  {
   "cell_type": "code",
   "execution_count": 95,
   "id": "b7c7729e-153d-4cf0-b1e2-0592723807c5",
   "metadata": {
    "id": "b7c7729e-153d-4cf0-b1e2-0592723807c5",
    "tags": []
   },
   "outputs": [],
   "source": [
    "def remove_punctuations_nepali(sentence):\n",
    "    punctuations = r\"\"\"!\"#$%&'()*+,-./:;<=>?@[\\]^_`{|}~।॥\"\"\"\n",
    "    return re.sub('[' + re.escape(punctuations) + ']', '', sentence)"
   ]
  },
  {
   "cell_type": "code",
   "execution_count": 96,
   "id": "6a8e96e7-eed1-409a-8359-35b19b2218eb",
   "metadata": {
    "colab": {
     "base_uri": "https://localhost:8080/"
    },
    "id": "6a8e96e7-eed1-409a-8359-35b19b2218eb",
    "outputId": "20b2a5bf-b747-4f50-bc34-c82df8b30063",
    "tags": []
   },
   "outputs": [
    {
     "name": "stdout",
     "output_type": "stream",
     "text": [
      "नमस्ते के छ तपाईंको नाम म सन्चै खुशी छु\n"
     ]
    }
   ],
   "source": [
    "text = \"नमस्ते! के छ तपाईंको नाम? म सन्चै खुशी छु।\"\n",
    "cleaned_text = remove_punctuations_nepali(text)\n",
    "print(cleaned_text)"
   ]
  },
  {
   "cell_type": "markdown",
   "id": "47bf07c8-def3-436e-9cc7-4ea1102c4cb0",
   "metadata": {
    "id": "47bf07c8-def3-436e-9cc7-4ea1102c4cb0"
   },
   "source": [
    "## Remove Stopwords\n",
    "\n"
   ]
  },
  {
   "cell_type": "code",
   "execution_count": 97,
   "id": "0a385fbd-02d5-4118-ad09-934839a58248",
   "metadata": {
    "colab": {
     "base_uri": "https://localhost:8080/"
    },
    "id": "0a385fbd-02d5-4118-ad09-934839a58248",
    "outputId": "08fd28df-d3ec-49cc-8c32-d5e45478b7ed",
    "tags": []
   },
   "outputs": [
    {
     "name": "stderr",
     "output_type": "stream",
     "text": [
      "[nltk_data] Downloading package stopwords to\n",
      "[nltk_data]     C:\\Users\\neupa\\AppData\\Roaming\\nltk_data...\n",
      "[nltk_data]   Package stopwords is already up-to-date!\n",
      "[nltk_data] Downloading package punkt to\n",
      "[nltk_data]     C:\\Users\\neupa\\AppData\\Roaming\\nltk_data...\n",
      "[nltk_data]   Package punkt is already up-to-date!\n"
     ]
    }
   ],
   "source": [
    "import nltk\n",
    "\n",
    "nltk.download('stopwords')\n",
    "nltk.download('punkt')\n",
    "\n",
    "from nltk.corpus import stopwords\n",
    "from nltk.tokenize import word_tokenize"
   ]
  },
  {
   "cell_type": "code",
   "execution_count": 98,
   "id": "b0a5d59d-60dc-4561-bf5e-4b7be7ab01db",
   "metadata": {
    "colab": {
     "base_uri": "https://localhost:8080/"
    },
    "id": "b0a5d59d-60dc-4561-bf5e-4b7be7ab01db",
    "outputId": "7949a9a9-f93f-46e9-ce58-60ba44245bf7",
    "tags": []
   },
   "outputs": [
    {
     "data": {
      "text/plain": [
       "['र', 'थिएन', 'रूप', 'यद्यपि', 'औं', 'क्रमशः', 'जो', 'भित्र', 'सम्भव', 'को']"
      ]
     },
     "execution_count": 98,
     "metadata": {},
     "output_type": "execute_result"
    }
   ],
   "source": [
    "stop_words = set(stopwords.words('nepali'));list(stop_words)[:10]"
   ]
  },
  {
   "cell_type": "code",
   "execution_count": 99,
   "id": "18c7587b-c646-4f10-9f89-5dd8b193b976",
   "metadata": {
    "id": "18c7587b-c646-4f10-9f89-5dd8b193b976",
    "tags": []
   },
   "outputs": [],
   "source": [
    "custom_stopwords = ['छ', 'हो', 'ले', 'को']\n",
    "stop_words.update(custom_stopwords)"
   ]
  },
  {
   "cell_type": "code",
   "execution_count": 100,
   "id": "1ee54e74-514b-4c5c-9546-9075e98e0d70",
   "metadata": {
    "id": "1ee54e74-514b-4c5c-9546-9075e98e0d70",
    "tags": []
   },
   "outputs": [],
   "source": [
    "def remove_stopwords_nepali(text):\n",
    "    tokens = word_tokenize(text)\n",
    "    filtered_tokens = [token for token in tokens if token.lower() not in stop_words]\n",
    "    return ' '.join(filtered_tokens)\n",
    "\n",
    "# def remove_stopwords_nepali(text_tokens):\n",
    "#     result_tokens = []\n",
    "#     for token in text_tokens:\n",
    "#         if token not in stop_words:\n",
    "#             result_tokens.append(token)\n",
    "#     return result_tokens"
   ]
  },
  {
   "cell_type": "code",
   "execution_count": 101,
   "id": "9dd69d69-45d7-4176-86ad-8637be762b4a",
   "metadata": {
    "colab": {
     "base_uri": "https://localhost:8080/"
    },
    "id": "9dd69d69-45d7-4176-86ad-8637be762b4a",
    "outputId": "c8ff457a-bbb6-4c38-bfef-f3815a2d142b",
    "tags": []
   },
   "outputs": [
    {
     "name": "stdout",
     "output_type": "stream",
     "text": [
      "हामीले काम थियौं की ?\n"
     ]
    }
   ],
   "source": [
    "text = \"हामीले त्यो काम गर्ने थियौं की नि?\"\n",
    "cleaned_text = remove_stopwords_nepali(text)\n",
    "print(cleaned_text)"
   ]
  },
  {
   "cell_type": "markdown",
   "id": "39316350-1aad-4e78-af0b-d46f53d5e58b",
   "metadata": {
    "id": "39316350-1aad-4e78-af0b-d46f53d5e58b"
   },
   "source": [
    "## Stemming vs Lemmatization"
   ]
  },
  {
   "cell_type": "markdown",
   "id": "55cc2343-1ab5-4491-b43d-9def681a6498",
   "metadata": {
    "id": "55cc2343-1ab5-4491-b43d-9def681a6498"
   },
   "source": [
    "In stemming, we simply slice a particular word to reduce the number of duplicates; The word playing could be stemmed to play which will reduce the number of words in our vocabulary. Stemming is much faster than lammatization whereas it is not that accurate.\n",
    "\n",
    "In Lemmatization, we have to convert each word to its root form; playing could me lemattized to play or plays to play. However, it is slower than stemming as we have to find the root word. But, this also makes it more accurate.\n",
    "\n",
    "Unlike english langauge which could be easily lemmatized or stemmed, this feature is not available in nltk.\n",
    "<b> After doing a through reseach, I found a python package called nepali-stemmer"
   ]
  },
  {
   "cell_type": "code",
   "execution_count": 102,
   "id": "47178011-306c-46ef-b1bc-c80d60276f8c",
   "metadata": {
    "id": "47178011-306c-46ef-b1bc-c80d60276f8c",
    "tags": []
   },
   "outputs": [],
   "source": [
    "from nepali_stemmer.stemmer import NepStemmer\n",
    "nepstem = NepStemmer()"
   ]
  },
  {
   "cell_type": "code",
   "execution_count": 103,
   "id": "c29a9a7a-801e-4191-86d3-f992b7f1bb2b",
   "metadata": {
    "colab": {
     "base_uri": "https://localhost:8080/",
     "height": 36
    },
    "id": "c29a9a7a-801e-4191-86d3-f992b7f1bb2b",
    "outputId": "8c07002e-9d25-481d-a315-e17096ad9c75",
    "tags": []
   },
   "outputs": [
    {
     "data": {
      "text/plain": [
       "'नेपाल को एमाले पार्टी का झोले, मण्डले हरु अमेरिका आउने रे !'"
      ]
     },
     "execution_count": 103,
     "metadata": {},
     "output_type": "execute_result"
    }
   ],
   "source": [
    "nepstem.stem(\"नेपालको एमाले पार्टीका झोले, मण्डलेहरु अमेरिका आउने रे !\")"
   ]
  },
  {
   "cell_type": "markdown",
   "id": "77157c92-43c5-4e9d-b443-22df4e56a15a",
   "metadata": {
    "id": "77157c92-43c5-4e9d-b443-22df4e56a15a"
   },
   "source": [
    "<b> The dataset that I have is not very big, which is why I wanted to use Lemmatization. But, I couldn't find the appropriate package offering such faeture for a nepali dataset. After a through reading of multiple research articles, I came accross a python package offered in this github repositiory that provided stemming in Nepali.\n",
    "    \n",
    "    Link to GitHub: https://github.com/oya163/nepali-stemmer\n",
    "\n",
    "Therefore, I decided to use Stemming as I couldn't get appropriate method for performing lemmatization on nepali sequences."
   ]
  },
  {
   "cell_type": "code",
   "execution_count": 104,
   "id": "9824e673-f074-4b89-99e4-5970585ffab3",
   "metadata": {
    "id": "9824e673-f074-4b89-99e4-5970585ffab3",
    "tags": []
   },
   "outputs": [],
   "source": [
    "def nepali_stemming(text):\n",
    "  return nepstem.stem(text)"
   ]
  },
  {
   "cell_type": "markdown",
   "id": "kKVvd2LIGifi",
   "metadata": {
    "id": "kKVvd2LIGifi"
   },
   "source": [
    "## Removing Nepali Numbers"
   ]
  },
  {
   "cell_type": "markdown",
   "id": "6XUefAVzGkc5",
   "metadata": {
    "id": "6XUefAVzGkc5"
   },
   "source": [
    "Since I am doing nepali news classifcation, there may not be a necessecity to include raw nepali numbers."
   ]
  },
  {
   "cell_type": "code",
   "execution_count": 105,
   "id": "AojzoR4lGkSL",
   "metadata": {
    "colab": {
     "base_uri": "https://localhost:8080/"
    },
    "id": "AojzoR4lGkSL",
    "outputId": "afa7733e-5771-489f-95bf-b6ab873d74de",
    "tags": []
   },
   "outputs": [
    {
     "name": "stdout",
     "output_type": "stream",
     "text": [
      "नेपाली न्यूज़ \n"
     ]
    }
   ],
   "source": [
    "import re\n",
    "\n",
    "def remove_nepali_numbers(text):\n",
    "    # Regular expression pattern to match numeric characters in Nepali script\n",
    "    pattern = r'[०-९]'\n",
    "\n",
    "    # Remove numeric characters using regex substitution\n",
    "    text_without_numbers = re.sub(pattern, '', text)\n",
    "    \n",
    "    return text_without_numbers\n",
    "\n",
    "# Example usage\n",
    "nepali_text = \"नेपाली न्यूज़ २०२३\"\n",
    "text_without_numbers = remove_nepali_numbers(nepali_text)\n",
    "print(text_without_numbers)"
   ]
  },
  {
   "cell_type": "markdown",
   "id": "foiTvv4VEzQk",
   "metadata": {
    "id": "foiTvv4VEzQk"
   },
   "source": [
    "## Tokenization"
   ]
  },
  {
   "cell_type": "code",
   "execution_count": 106,
   "id": "W7VLazvxEwdv",
   "metadata": {
    "colab": {
     "base_uri": "https://localhost:8080/"
    },
    "id": "W7VLazvxEwdv",
    "outputId": "fca5132e-c43e-4096-8d6b-9501208471a9",
    "tags": []
   },
   "outputs": [
    {
     "name": "stderr",
     "output_type": "stream",
     "text": [
      "[nltk_data] Downloading package punkt to\n",
      "[nltk_data]     C:\\Users\\neupa\\AppData\\Roaming\\nltk_data...\n",
      "[nltk_data]   Package punkt is already up-to-date!\n"
     ]
    }
   ],
   "source": [
    "import nltk\n",
    "nltk.download('punkt')\n",
    "from nltk import word_tokenize\n",
    "\n",
    "# preprocessing\n",
    "def tokenize(text):\n",
    "    return word_tokenize(text)"
   ]
  },
  {
   "cell_type": "markdown",
   "id": "OFbpPWTHE8of",
   "metadata": {
    "id": "OFbpPWTHE8of"
   },
   "source": [
    "## Custom Pipeline to clean text\n",
    "\n"
   ]
  },
  {
   "cell_type": "markdown",
   "id": "NN8dRnc0FQMb",
   "metadata": {
    "id": "NN8dRnc0FQMb"
   },
   "source": [
    "lower_order, remove_urls, rm_html, remove_emoji, remove_unwanted_characters_nepali, rm_whitespaces, remove_punctuations_nepali, remove_stopwords_nepali, stemming, tokenize"
   ]
  },
  {
   "cell_type": "code",
   "execution_count": 107,
   "id": "ef5S-kZME8gt",
   "metadata": {
    "id": "ef5S-kZME8gt",
    "tags": []
   },
   "outputs": [],
   "source": [
    "def custom_cleaning_pipeline(string):   \n",
    "    string = lower_order(string)\n",
    "    string = remove_urls(string)\n",
    "    string = rm_html(string)\n",
    "    string = remove_emoji(string)\n",
    "    string = remove_unwanted_characters_nepali(string)\n",
    "    string = remove_punctuations_nepali(string)\n",
    "    string = remove_nepali_numbers(string)\n",
    "    string = rm_whitespaces(string)\n",
    "    \n",
    "    string = remove_stopwords_nepali(string)\n",
    "    string = tokenize(string)\n",
    "    string = nepali_stemming(\" \".join(string))\n",
    "\n",
    "    return string"
   ]
  },
  {
   "cell_type": "code",
   "execution_count": 108,
   "id": "37rc7Wb_LAHH",
   "metadata": {
    "colab": {
     "base_uri": "https://localhost:8080/",
     "height": 123
    },
    "id": "37rc7Wb_LAHH",
    "outputId": "66192d4f-55f7-449f-8b88-8d27b773e541",
    "tags": []
   },
   "outputs": [
    {
     "data": {
      "text/plain": [
       "'युवा वकिलले मेरो नाम, थर र वतन लेखे । अनि हातमा कलम लिएर ठट्टाको भाकामा मलाई सोधे, “सर हुन त माओवादी नै हुनुहुन्छ, हकि ? “ठिक छ, त्यै लेख्नोस् ।” मैले मुस्कानमय मुद्रामा चुरोटको धुवाँ वकिलको अनुहारतिर हुर्\\u200dर्याएँ । नेपाली कागजमा लम्बेतान ब्यहोरा लेखिसकेपछि उनले भने, “सर, यो पढुँ र यसमा सहीछाप गरिदिऊँ ।” “तपाई पनि पेशागत धर्मले त सरकारी वकिल नै हुनुहन्छ । वयानमा सरकारी वकिलको पेसागत चरित्र झल्किने कुरा त पार्नुभएकै होला, कि कसो ?” “पहिले पढी त हेर्नोस् ।” मैले पढ्दै नपढी सही धस्काइदिएँ । साढे तीन बजिसकेको थियो । प्रहरी भ्यान प्रजिअ कार्यालय विजुलीबजारतिर हुइँकियो । प्रजिअको आदेशको प्रतिक्षामा कार्यालय बाहिर केहीवेर कुरेपछि भित्रबाट बोलाहट भयो । प्रजिअ विजयराज भट्टराई रहेछन्, तनहुँमा मास्टरी गर्दा मसँग परिचय भएका छुपे रुस्तम मार्कामा पुराना काङ्ग्रेस । नाटकीय सद्भाव र खातिरदारी प्रदर्शन गर्दै मेरो नमस्कारको प्रत्युत्तरमा उनले हाकिमी आसनबाट बाहिर निस्केर मसँग हात मिलाए । प्रजिअको आदेशको प्रतिक्षामा कार्यालय बाहिर केहीवेर कुरेपछि भित्रबाट बोलाहट भयो । प्रजिअ विजयराज भट्टराई रहेछन्, तनहुँमा मास्टरी गर्दा मसँग परिचय भएका छुपे रुस्तम मार्कामा पुराना काङ्ग्रेस । नाटकीय सद्भाव र खातिरदारी प्रदर्शन गर्दै मेरो नमस्कारको प्रत्युत्तरमा उनले हाकिमी आसनबाट बाहिर निस्केर मसँग हात मिलाए । “ल, मेरै अगाडि सरको बयान लिनू ।” युवा वकिललाई उनले अह्राए । बकिलले फँटवाला बयानकर्मीलाई तत्काल डाकेर ल्याए । “उतै जाऊँ सर ।” उनले मलाई आफ्नो फाँटतिर डोर्\\u200dयाए । पाठकको हैसियतले उनी जुनियर भानुभक्तलाई चिन्दा रहेछन् । उनले मसँग एकदमै अन्तरङ्ग व्यवहार गरे । “हैन, लेख्ने मान्छेलाई यो के गर्\\u200dया हो ? सरले कतै भाषणसासण त गर्नु भा’ थेन नि, थ्यो र ?” “संविधानले लेखकलाई तैँले भाषण गर्नु हुँदैन भन्या छ र ?” बयान लिनु केही थिएन, केवल रकमी रीत पुर्\\u200dयाउनुमात्र थियो । एक कप चियाको अवधिभित्र रीत चाट्चुट्टै सम्पन्न भयो । प्रजिअ कार्यालयमा मित्र लीलामणि पोख्रेल, शशी श्रेष्ठ, निनु चापागाई र अरु केही मित्र अग्घिनै देखि मलाई कुरिरहनुभएको रहेछ । सार्वजनिक सडकमा ढुङ्गा–मूढा गरी म जुनियर भानुभक्तले शासकहरूको शान्ति–सुव्यवस्थामा पुनः खलल पुर्\\u200dयाएको खण्डमा त्यसको जिम्मेदारी आफूले लिने शर्तमा लीलाजी मेरो जमानी बसिदिनुभयो र म सरकारी खोरबाट तारेखमा फुकुवा भएँ । एक कप चियाको अवधिभित्र रीत चाट्चुट्टै सम्पन्न भयो । प्रजिअ कार्यालयमा मित्र लीलामणि पोख्रेल, शशी श्रेष्ठ, निनु चापागाई र अरु केही मित्र अग्घिनै देखि मलाई कुरिरहनुभएको रहेछ । सार्वजनिक सडकमा ढुङ्गा–मूढा गरी म जुनियर भानुभक्तले शासकहरूको शान्ति–सुव्यवस्थामा पुनः खलल पुर्\\u200dयाएको खण्डमा त्यसको जिम्मेदारी आफूले लिने शर्तमा लीलाजी मेरो जमानी बसिदिनुभयो र म सरकारी खोरबाट तारेखमा फुकुवा भएँ । आफूलाई प्रजातन्त्रको जनक, पुत्र र पौत्र गरी थ्री इन् वान् ठान्ने नेपाली काङ्ग्रेसका शेरबहादुर देउवाको हालहुकुमकालमा सरकारको ‘प्रजातान्त्रिक स्रेस्ता!मा म कलमकर्मी खगेन्द्र संग्रौलाको नामलाई ढुङ्गा–मूढाकर्मीको रूपमा अभिलेखबद्ध हुने सौभाग्य प्राप्त भयो । मध्ये दिनमा राजधानीका सडकमा टहल्दा जब प्रहरी भ्यान गुडेको देख्छु, सरकारी अभिलेखको सम्मानपूर्ण स्मृतिमा मलाई भ्यानमा ढुङ्गा हानूँ–हानूँ लागेर आउँछ । तर हान्नलाई ढुङ्गाकै दुःख छ किनभने खानीखोलाका ढुङ्गाजति राजधानीमा निर्मित नवधनाढ्यहरूका नवीन भवनका जगमा भूमिसात् भइसकेका छन् । र, उता मेरो मित्र लीलाजीलाई चाहिँ ढुङ्गा–मूढाकर्मी खगेन्द्र संग्रौलाले प्रहरी भ्यानमा ढुङ्गा–मूढा हानेर उत्पात नमचाइदिनाले आफू प्रजिअका समक्ष उभिन नपाउनाको दुःख छ । म नरकयात्राबाट मुक्त भएँ । हनुमान ढोकाबाट बिदा हुन बाँकी नै थियो, म गएँ । “सर, यो सिदा खर्च बुझेर यसमा सही गरिदिऊँ ।” हनुमान ढोका खोरका कमान्डर असई साहेपले भने । मैले दिनगन्तीको हिसाबले भनेबमोजिम सहस्र ठाउँमा सही गरिदिएँ । “सर, यो रकम गनेर बुझिदिऊँ ।” “भैगो, असई साहेप । भाइहरूले एक कप चिया खाऊन् । यहाँहरूको सद्भाव र सहयोगको कथा मेरो मनमा छापिएको छ ।” खोरबाट मुक्त भएको साता दिनपछि म काँकरभिट्टा गएँ, आमाालई भेट्न । “यसपाला हाम्री आमा गलिन् ।” भेट हुनासाथ ठूल्दाइले खिन्न स्वरमा भन्नुभयो । “तँ पक्राउ परेको खबर सुनेको दिनदेखि आमाको खानु–सुत्नु ठ्याप्पै बन्द भो । ‘कति कुटे होलान् ?’ ‘कसरी मारे होलान् ?’ आमाका जिब्रामा रातदिन यही कुरामात्र छ । हेर् केटा, यसपाला हाम्री आमाका मनमा ठूलो चोट लाग्यो ।” “मैले त तँलाई मारिसके भन्ठान्या थेँ । हे भगवान्, तँ त जिउँदै पो आइछस् !” आमाका आँखाबाट शेष आँसु बग्न थाले । “त्यसरी दुलामै दमपच पार्नुपर्ने कसुर तैँले के गर्\\u200dया थिस् र तिनले तँलाई त्यसो गर्\\u200dया हुन् ?” आमालाई ढोगिदिएँ । “ए तँ जिउँदै आइस् ?” सपनामा झैँ आमा बोल्नुभयो । हेर्छु, गलेर शरीर सिट्ठा भएको छ, अनुहार छ मुजै–मुजाको पुञ्चजस्तो । पानी सुकिसकेजस्ता आँखा राता न राता छन् । “मैले त तँलाई मारिसके भन्ठान्या थेँ । हे भगवान्, तँ त जिउँदै पो आइछस् !” आमाका आँखाबाट शेष आँसु बग्न थाले । “त्यसरी दुलामै दमपच पार्नुपर्ने कसुर तैँले के गर्\\u200dया थिस् र तिनले तँलाई त्यसो गर्\\u200dया हुन् ?” प्रश्नको उत्तर हाम्री आमाले बुझ्ने भाषामा म कसरी दिऊँ ? म अकमक्क परेँ । सङ्कीर्ण नेपाली राज्य, कहिल्यै नसुधारिएको त्यसको परम्परागत क्रूर चरित्र, प्रजातन्त्र र स्वतन्त्रताका पक्षमा सोच्ने, बोल्ने र लेख्ने नागरिकसँगको त्यसको द्वेषपूर्ण नाता...। चूलो चौकोको कैदबाट कहिल्यै बाहिर निस्कन नपाएकी आमालाई यस्ता जटिल कुरा म कसरी बुझाऊँ ? “मैले सरकारी मुखियाहरूको विरोधमा लेखेँ, त्यसैले .....” “तैँले त्यस्तो के लेख्याथिस् ?” “सरकारी मुखियाहरूको अन्याय–अत्तिचार खपिनसक्नु भो । अन्यायमा परेकाजतिले अब मुख खोल्नुपर्छ । मैले हो यस्तैयस्तै कुरा लेख्या थेँ ।” यतिनाथे कुरा लेख्दैमा तिनले तँलाई त्यत्रो गरेका हुन् त ?” “गरे ।” “मर्न नसकेका जेमराजहरू !” म आमासँग तीन दिन बसेँ । त्यो बसाइभरि नै यमराजहरूका कुराको प्रसङ्ग उठिरह्यो । “हेर, हेर, तिनले तँलाई कुटेछन् । असत्ती जेमराजहरू !” मेरो डिल सुन्निएको र भित्र रातो भएको आँखो हेर्दै आमाले भन्नुभयो । “हैन आमा, आँखो आपैm पाकेको हो ।” “तिनले तँलाई खान दिएनन् होला ।” “दिए ।” “राति तँलाई जाडो भो होला ।” “हैन, न्यानो थ्यो ।” “हेर, हेर पापिष्टहरू ! जमुना, डेजी त्यो सानो मित्रे, ती कति आत्तिए होलन् ! कति रोए होलान् ती ! नाथे त्यत्ति कुरा लेख्दैमा यस्तो पनि गर्नु ? पापिष्ट जेमराजहरू !” आमाको र मेरो सुत्ने कोठा एउटै थियो । म बिहानको महाअल्छी । प्रायः राति अबेरसम्म बस्ने मेरो बानी । एक रात बाह्र बजेतिर होला, म पढिरहेको थिएँ, आमा घरीघरी खुइय सुस्केरा हाल्दै कोल्टो फेरिरहनुभएको थियो । “हैन, तैँले अझै जाँच दिनु छ ?” मेरो पढाइको अर्थ बुझ्न खोज्दै आमाले सोध्नुभयो । “छैन ।” “कति पढिराख्या त नि ?” “पढ्नुपर्छ ।” “आ... कहिल्यै नसकिने तेरो पढाइ पनि ! भो सुत् । आँखा बिग्रिन्छन् ।” एक घण्टापछि आमाको उही जटिल जिज्ञासा दोहोरियो, “आ .... पढ्दा–पढदै तेरो कपाल फुकिसको । जाँच दिनु नपर्ने यो पढाइको तँलाई के काम ? “आमा, मैले जेमराजहरूसँग लड्नु छ । त्यसैले मैले पढ्नुपर्छ ।” “मान्छेलाई आनन्दले सुत्न पनि नदिने असत्ती जेमराजहरू !” गरुड पुराणका सोह्रै अध्यायको वाचन समाप्त भयो । मृतक र जीवित दुवै थरीले मोक्ष प्राप्त गर्ने प्रलोभन देखाउँदै रहस्य, भय र आतङ्कका समस्त गोली–गट्ठाले शोकाकुल जजमानहरूलाई प्रहार गरियो । के अब लालसायुक्त लगानी बमोजिमको लाभ प्राप्त होला त ? अगोचर कथालेखक बडीबाजे मुडुला जजमानहरूलाई बाजले चल्लालाई हेर्ने आँखाले हेर्छन् । उनलाई शङ्का लाग्छ— जजमानहरूका शिर धूलो टेक्ने गरी अझै ढलिसकेका छैनन् । तिनका आँखाको अतल गरिराइमा कतै धमिलो चमक अझै दृश्यमान् छ । तिनका अनुहारमा शुष्क कान्तिको आभास छँदैछ । बडीबाजेको शङ्का प्रगाढ हुँदै जान्छ । जजमानहरूको जनावरीकरण अझैँ पूर्ण भइसकेको छैन । अतः बाजे सिकारको मोर्चालाई पूर्ण रूपले सफलीभूत तुल्याउन अर्को एक राउन्ड छर्रा हान्ने अन्तिम कार्यनीति अख्तियार गर्छन् । बडीबाजे छर्रा हान्न अग्रसर हुँदै उच्चारण गर्छन्, “अथ महात्म्य” । बडीबाजेका पदचिन्ह पछ्याउँदै छोटीबाजे अर्थात् पुराणवाचक पुरोहित लालगेडे नयनले मलाई दागेर आज्ञा गर्छन्, “जो नास्तिक अधम मनुष्य यो पितृकर्म गर्दैनन्, तिनीहरूका हातको जलमात्र पनि पिउनु हुँदैन किनकि त्यो रक्सीसमान हुन्छ । देवता र पितृहरू पनि त्यसको घर हेर्र्दैनन् र उनीहरूका क्रोधले गर्दा क्रिया नगर्ने छोरा–नातिहरू महादुःखी, काना, लुला, लङ्गडा भएर जन्मछन् ।” बाजेका कुरा सुन्दा मलाई क्रिया नगर्ने केही पापीहरूको याद आउँछ । बीपी. कोइराला, चित्रबहादुर केसी., कमल कोइराला आदि । बडी बजेका आज्ञाको अवज्ञा गर्दै यी महानुभावहरूका सन्तानहरू सबलाङ्ग मात्र होइन सशक्त र लोकप्रियसमेत भएका छन् । शास्त्रविपरीत यो के भएको होला ? यसो हुनाको कारण कसलाई सोध्नु मुनासिब होला ? महेन्द्र संस्कृत महाविद्यालयको कर्मकाण्ड फाँटका प्राचार्य महोदयलाई ? बडीबाजेका पदचिन्ह पछ्याउँदै छोटीबाजे अर्थात् पुराणवाचक पुरोहित लालगेडे नयनले मलाई दागेर आज्ञा गर्छन्, “जो नास्तिक अधम मनुष्य यो पितृकर्म गर्दैनन्, तिनीहरूका हातको जलमात्र पनि पिउनु हुँदैन किनकि त्यो रक्सीसमान हुन्छ । देवता र पितृहरू पनि त्यसको घर हेर्र्दैनन् र उनीहरूका क्रोधले गर्दा क्रिया नगर्ने छोरा–नातिहरू महादुःखी, काना, लुला, लङ्गडा भएर जन्मछन् ।” बाजेका कुरा सुन्दा मलाई क्रिया नगर्ने केही पापीहरूको याद आउँछ । बीपी. कोइराला, चित्रबहादुर केसी., कमल कोइराला आदि । “जसले पितृ–उद्धारका निम्ति गरुड पुराण सुनेन, त्यो कसरी पुत्र हो भनेर जान्नु ?” बाजेको यस उद्घोषभित्र पिताजीको काजक्रियामा गरुड पुराण बहिष्कार गर्ने मित्र दीपक ज्ञवालीले ठाडै नरकको बाटो लिएको दारुण दृश्य म देखिरहेको छु । लुब्ध बाजे उवाच, “यो गरुड पुराण अत्यन्त पुण्यदायक, पवित्र र पापनाशक छ । यो सुन्नाले जे चितायो त्यो पूर्ण हुन्छ । त्यस निमित्त सुखको इच्छा छ भने बाबु–आमा मर्दा त के सधैँ यो सुनिरहनयोग्य छ । यो सुन्नाले ब्राह्मण छ भने सम्पूर्ण शास्त्र जानेर विशारद हुन्छ, क्षत्रीय छ भने पृथ्वी प्राप्त गर्दछ याने राजा हुन्छ, वैश्य–बनीयाँ हो भने खूब धनी, सेठ हुन्छ र शूद्र हो भने जन्मजन्मान्तरको पातकबाट शुद्ध हुन्छ ।” अन्तर्दृष्टिले म हर्दे छु, बडीबाजेका मुखबाट र्\\u200dयाल चुहुन थाल्यो र चित्तको घैँटो टनाटन भरिएर पोखिन लागेको उनको तिर्सना स्वरबाटै मुखर भयो, “यो सुन्ने मात्र होइन, सुनेर कथावचक पण्डितलाई शास्त्रमा बताइएमुताबिक दानहरू दिनुपर्छ ।” पुराण लेखक बडीबाजे यहाँ टक्क अडिन्छन् । उनलाई लाग्छ, कथनमा जोड पुगेन । वाचनरूपी धनुबाट छोडिएको काण पर्याप्त वेगवान् भएन । अतः बडीबाजे शब्द–शब्दमा जोड दिँदै भन्छन्, “कथामा पहिले बताइएका शय्या आदि दानहरू दिनू किनकि पण्डितजीलाई सित्तैमा दुःख दिनाले त्यस्तो फल किमार्थ पाइँदैन ।” म कल्पनाको पर्दामा देख्दै छु, कथालेखक ठूला पुरोहित बाजे र कथावाचक साना पुरोहित बाजे दुवै निर्वस्त्र हुन थाले । तिनले स्वाभिमानका वस्त्र उतारे, तिनले मर्यादाका वस्त्र उतारे, तिनले लज्जाशीलताका, विनयशीलताका यावत् वस्त्रहरू उतारे । यी दुई बाजेले सर्वाङ्ग निर्वस्त्र भई लोभ–लालचले भरिपूर्ण मुद्रामा जजमानका दैलामा दुईतिर ध्याक पसारे । नाङ्गै छन्, दुई हात पसारेका छन्, ङिच्च दाँत देखाएका छन् र पुण्यकर्म र मोक्षका नाउँमा वाचन गरिएको गरुड पुराणको असीमित ज्याला दावी गर्दै कर्णकटु कण्ठले घुर्की लगाइरहेका छन्, “पण्डितजीलाई सित्तैमा दुःख दिएर त्यस्तो दिव्य फल कहाँ पाइन्छ ?” म कल्पनाको पर्दामा देख्दै छु, कथालेखक ठूला पुरोहित बाजे र कथावाचक साना पुरोहित बाजे दुवै निर्वस्त्र हुन थाले । तिनले स्वाभिमानका वस्त्र उतारे, तिनले मर्यादाका वस्त्र उतारे, तिनले लज्जाशीलताका, विनयशीलताका यावत् वस्त्रहरू उतारे । यी दुई बाजेले सर्वाङ्ग निर्वस्त्र भई लोभ–लालचले भरिपूर्ण मुद्रामा जजमानका दैलामा दुईतिर ध्याक पसारे । म प्रत्यक्ष देखिरहेको छु, बाजेद्वयले हात–हातमा स्वर्गका टिकट बोकेका छन् र टिकटको भारी दस्तुर दावी गर्दै याचना गरिरहेका छन्, “रेशमी आदि कपडा, सबै प्रकारका गहना, गोदानहरू र पूर्ण दक्षिणाहरूले कथावाचकलाई आदरसाथ पूजा गरोस् । सुवर्णदान, पृथ्वीदान इत्यादि धेरै प्रकारका दानहरूले वाचक पण्डितज्यूकन धेरै पुण्य मिलोस् भन्नाका निमित्त सभक्ति पूजा गरोस् ।” दृश्य मेरा आँखाअगाडि प्रखर छ, दुई बाजेका आकृतिहरू मनुष्यरूपबाट लुब्ध पशु रूपमा फेरिन थाले । ती पशुझैँ गनाइरहेका छन्, ती ङारङुर–ङुरङुर गरिरहेका छन्, ती लोभले फिँज काडिरहेका छन्, ती जजमानहरूमाथि झम्टा मार्ने दाउ कुरिहेका छन्, ती नर्कको भयकारी त्रास र स्वर्गको भ्रान्तिकारी आश देखाएर जजमानलाई गलाउन, निचोर्न र आफ्नो क्षुद्र मनोरथ पूर्ण हुने गरी कुम्ल्याउने अडानमा दृढ छन् । दिमाग घोटेर गरुड पुराण लेखेको र ओठ–तालु सुकाएर गरुड पुराण सुनाएको खाली हात आएर खाली हात फर्किनलाई हो र ? वाचकको माध्यमबाट आफ्ना यावत् तिर्सनाहरू तृप्त नहुने लक्षण देखेर अहिले भने बडीबाजे स्वयं बर्बराउन थाले, “हे गरुड ! वाचकको पूजा गर्नाले नै म सन्तुष्ट हुनेछु, यसमा किञ्चित् सन्देह छैन । तर हे गरुड ! वाचक सन्तुष्ट नभए म प्रसन्न हुन्नँ, यसमा अलिकति पनि सन्देह छैन ।” मलाई लाग्छ, जगत्का प्राणीहरूमा सबैभन्दा लोभी र लम्पट बिरालो हो तर गरुड पुराणका लेखक बडीबाजे विरालालाई पनि माथ गरिदिन्छन् । जगत्का लोभीहरूमध्ये सबैभन्दा लोभी, कपटीहरूमध्ये सबैभन्दा कपटी, लज्जाहीनहरुमध्ये सबैभन्दा लज्जाहीन, जातिवादीहरूमध्ये सबैभन्दा जातिवादी, नारीद्वेषीहरूमध्ये सबैभन्दा नारीद्वेषी, परपीडकहरूमध्ये सबैभन्दा परपीडक, भ्रम र अन्धकारका स्रष्टाहरूमध्ये सबैभन्दा ठूला स्रष्टा भनिन लायकका बडीबाजेको गरुड पुराण नामक अपराधगाथा यहाँ आइपुगेर समाप्त भयो । हरि ओम तत्सत् ।'"
      ]
     },
     "execution_count": 108,
     "metadata": {},
     "output_type": "execute_result"
    }
   ],
   "source": [
    "text = df.content.sample(1).values[0];text"
   ]
  },
  {
   "cell_type": "code",
   "execution_count": 109,
   "id": "y84BYBUDifcB",
   "metadata": {
    "colab": {
     "base_uri": "https://localhost:8080/",
     "height": 175
    },
    "id": "y84BYBUDifcB",
    "outputId": "1284b87b-2525-4d0d-d19b-5e33bf285087",
    "tags": []
   },
   "outputs": [
    {
     "data": {
      "text/plain": [
       "'यव वकलल मर नम थर वतन लख अन हतम कलम लएर ठटटक भकम मलई सध सर हन मओवद हनहनछ हकठक तय लखनस मल मसकनमय मदरम चरटक धव वकलक अनहरतर हररयए नपल कगजम लमबतन बयहर लखसकपछ उनल सर य पढ यसम सहछप गरदऊ तपई पन पशगत धरमल सरकर वकल हनहनछ वयनम सरकर वकलक पसगत चरतर झलकन कर परनभएक हल क कसपहल पढ हरनस मल पढद नपढ सह धसकइदए सढ तन बजसकक थय परहर भयन परजअ करयलय वजलबजरतर हइकय परजअक आदशक परतकषम करयलय बहर कहवर करपछ भतरबट बलहट भय परजअ वजयरज भटटरई रहछन तनहम मसटर गरद मसग परचय भएक छप रसतम मरकम परन कङगरस नटकय सदभव खतरदर परदरशन गरद मर नमसकरक परतयततरम उनल हकम आसनबट बहर नसकर मसग हत मलए परजअक आदशक परतकषम करयलय बहर कहवर करपछ भतरबट बलहट भय परजअ वजयरज भटटरई रहछन तनहम मसटर गरद मसग परचय भएक छप रसतम मरकम परन कङगरस नटकय सदभव खतरदर परदरशन गरद मर नमसकरक परतयततरम उनल हकम आसनबट बहर नसकर मसग हत मलए ल मर अगड सरक बयन लन यव वकललई उनल अहरए बकलल फटवल बयनकरमलई ततकल डकर लयए उत जऊ सर उनल मलई आफन फटतर डरयए पठकक हसयतल उन जनयर भनभकतलई चनद रहछन उनल मसग अनतरङग वयवहर गर हन लखन मनछलई य क गरय हसरल कत भषणससण गरन भ थन थय रसवधनल लखकलई भषण गरन हदन भनय रबयन लन कह थएन कवल रकम रत परयउनमतर थय कप चयक अवधभतर रत चटचटट समपनन भय परजअ करयलयम मतर ललमण पखरल शश शरषठ नन चपगई अर कह मतर अगघन दख मलई कररहनभएक रहछ सरवजनक सडकम ढङगमढ गर जनयर भनभकतल शसकहरक शनतसवयवसथम पन खलल परयएक खणडम तयसक जममदर आफल लन शरतम ललज मर जमन बसदनभय सरकर खरबट तरखम फकव कप चयक अवधभतर रत चटचटट समपनन भय परजअ करयलयम मतर ललमण पखरल शश शरषठ नन चपगई अर कह मतर अगघन दख मलई कररहनभएक रहछ सरवजनक सडकम ढङगमढ गर जनयर भनभकतल शसकहरक शनतसवयवसथम पन खलल परयएक खणडम तयसक जममदर आफल लन शरतम ललज मर जमन बसदनभय सरकर खरबट तरखम फकव आफलई परजतनतरक जनक पतर पतर गर थर इन वन ठनन नपल कङगरसक शरबहदर दउवक हलहकमकलम सरकरक परजतनतरक सरसतम कलमकरम खगनदर सगरलक नमलई ढङगमढकरमक रपम अभलखबदध हन सभगय परपत भय मधय दनम रजधनक सडकम टहलद परहर भयन गडक दखछ सरकर अभलखक सममनपरण समतम मलई भयनम ढङग हनहन लगर आउछ हननलई ढङगक दख कनभन खनखलक ढङगजत रजधनम नरमत नवधनढयहरक नवन भवनक जगम भमसत भइसकक छन उत मर मतर ललजलई चह ढङगमढकरम खगनदर सगरलल परहर भयनम ढङगमढ हनर उतपत नमचइदनल आफ परजअक समकष उभन नपउनक दख नरकयतरबट मकत हनमन ढकबट बद हन बक थय सर य सद खरच बझर यसम सह गरदऊ हनमन ढक खरक कमनडर असई सहपल मल दनगनतक हसबल भनबमजम सहसर ठउम सह गरदए सर य रकम गनर बझदऊ भग असई सहप भइहरल कप चय खऊन यहहरक सदभव सहयगक कथ मर मनम छपएक खरबट मकत भएक सत दनपछ ककरभटट आमलई भटन यसपल हमर आम गलन भट हनसथ ठलदइल खनन सवरम भननभय पकरउ परक खबर सनक दनदख आमक खनसतन ठयपप बनद भ कत कट हलनकसर मर हलनआमक जबरम रतदन यह करमतर हर कट यसपल हमर आमक मनम ठल चट लगय मल तलई मरसक भनठनय थ ह भगवन जउद प आइछसआमक आखबट शष आस बगन थल तयसर दलम दमपच परनपरन कसर क गरय थस तनल तलई तयस गरय हनआमलई ढगदए ए जउद आइससपनम झ आम बलनभय हरछ गलर शरर सटठ भएक अनहर मजमजक पञचजसत पन सकसकजसत आख रत रत छन मल तलई मरसक भनठनय थ ह भगवन जउद प आइछसआमक आखबट शष आस बगन थल तयसर दलम दमपच परनपरन कसर क गरय थस तनल तलई तयस गरय हनपरशनक उततर हमर आमल बझन भषम कसर दऊम अकमकक पर सङकरण नपल रजय कहलय नसधरएक तयसक परमपरगत करर चरतर परजतनतर सवतनतरतक पकषम सचन बलन लखन नगरकसगक तयसक दवषपरण नत चल चकक कदबट कहलय बहर नसकन नपएक आमलई यसत जटल कर कसर बझऊमल सरकर मखयहरक वरधम लख तयसलतल तयसत क लखयथससरकर मखयहरक अनययअततचर खपनसकन भ अनययम परकजतल मख खलनपरछ मल ह यसतयसत कर लखय थ यतनथ कर लखदम तनल तलई तयतर गरक हन तगर मरन नसकक जमरजहरम आमसग तन दन बस तय बसइ भर यमरजहरक करक परसङग उठरहय हर हर तनल तलई कटछन असतत जमरजहरमर डल सननएक भतर रत भएक आख हरद आमल भननभय हन आम आख आपm पकक ह तनल तलई खन दएनन हल दए रत तलई जड भ हल हन नयन थय हर हर पपषटहरजमन डज तय सन मतर कत आततए हलनकत रए हलन तनथ तयतत कर लखदम यसत पन गरनपपषट जमरजहरआमक मर सतन कठ एउट थय बहनक महअलछ परय रत अबरसमम बसन मर बन रत बहर बजतर हल पढरहक थए आम घरघर खइय ससकर हलद कलट फररहनभएक थय हन अझ जच दन छमर पढइक अरथ बझन खजद आमल सधनभय छन कत पढरखय नपढनपरछ आ कहलय नसकन पढइ पनभ सत आख बगरनछन घणटपछ आमक उह जटल जजञस दहरय आपढदपढद कपल फकसक जच दन नपरन य पढइक तलई क कमआम मल जमरजहरसग लडन तयसल मल पढनपरछ मनछलई आननदल सतन पन नदन असतत जमरजहरगरड परणक सहर अधययक वचन समपत भय मतक जवत दव थरल मकष परपत गरन परलभन दखउद रहसय भय आतङकक समसत गलगटठल शककल जजमनहरलई परहर गरय क ललसयकत लगन बमजमक लभ परपत हल तअगचर कथलखक बडबज मडल जजमनहरलई बजल चलललई हरन आखल हरछन उनलई शङक लगछ जजमनहरक शर धल टकन गर अझ ढलसकक छनन तनक आखक अतल गररइम कत धमल चमक अझ दशयमन तनक अनहरम शषक कनतक आभस छदछ बडबजक शङक परगढ हद जनछ जजमनहरक जनवरकरण अझ परण भइसकक छन अत बज सकरक मरचलई परण रपल सफलभत तलयउन अरक रउनड छरर हनन अनतम करयनत अखतयर गरछन बडबज छरर हनन अगरसर हद उचचरण गरछन अथ महतमय बडबजक पदचनह पछयउद छटबज अरथत परणवचक परहत ललगड नयनल मलई दगर आजञ गरछन ज नसतक अधम मनषय य पतकरम गरदनन तनहरक हतक जलमतर पन पउन हदन कनक तय रकससमन हनछ दवत पतहर पन तयसक घर हररदनन उनहरक करधल गरद करय नगरन छरनतहर महदख कन लल लङगड भएर जनमछन बजक कर सनद मलई करय नगरन कह पपहरक यद आउछ बप कइरल चतरबहदर कस कमल कइरल आद बड बजक आजञक अवजञ गरद य महनभवहरक सनतनहर सबलङग मतर हइन सशकत लकपरयसमत भएक छन शसतरवपरत य क भएक हलयस हनक करण कसलई सधन मनसब हलमहनदर ससकत महवदयलयक करमकणड फटक परचरय महदयलईबडबजक पदचनह पछयउद छटबज अरथत परणवचक परहत ललगड नयनल मलई दगर आजञ गरछन ज नसतक अधम मनषय य पतकरम गरदनन तनहरक हतक जलमतर पन पउन हदन कनक तय रकससमन हनछ दवत पतहर पन तयसक घर हररदनन उनहरक करधल गरद करय नगरन छरनतहर महदख कन लल लङगड भएर जनमछन बजक कर सनद मलई करय नगरन कह पपहरक यद आउछ बप कइरल चतरबहदर कस कमल कइरल आद जसल पतउदधरक नमत गरड परण सनन तय कसर पतर ह भनर जननबजक उदघषभतर पतजक कजकरयम गरड परण बहषकर गरन मतर दपक जञवलल ठड नरकक बट लएक दरण दशय दखरहक लबध बज उवच य गरड परण अतयनत पणयदयक पवतर पपनशक य सननल ज चतय तय परण हनछ तयस नमतत सखक इचछ बबआम मरद क सध य सनरहनयगय य सननल बरहमण समपरण शसतर जनर वशरद हनछ कषतरय पथव परपत गरदछ यन रज हनछ वशयबनय ह खब धन सठ हनछ शदर ह जनमजनमनतरक पतकबट शदध हनछ अनतरदषटल हरद बडबजक मखबट रयल चहन थलय चततक घट टनटन भरएर पखन लगक उनक तरसन सवरबट मखर भय य सनन मतर हइन सनर कथवचक पणडतलई शसतरम बतइएमतबक दनहर दनपरछ परण लखक बडबज यह टकक अडनछन उनलई लगछ कथनम जड पगन वचनरप धनबट छडएक कण परयपत वगवन भएन अत बडबज शबदशबदम जड दद भनछन कथम पहल बतइएक शयय आद दनहर दन कनक पणडतजलई सततम दख दनल तयसत फल कमरथ पइदन कलपनक परदम दखद कथलखक ठल परहत बज कथवचक सन परहत बज दव नरवसतर हन थल तनल सवभमनक वसतर उतर तनल मरयदक वसतर उतर तनल लजजशलतक वनयशलतक यवत वसतरहर उतर य दई बजल सरवङग नरवसतर भई लभललचल भरपरण मदरम जजमनक दलम दईतर धयक पसर नङग छन दई हत पसरक छन ङचच दत दखएक छन पणयकरम मकषक नउम वचन गरएक गरड परणक असमत जयल दव गरद करणकट कणठल घरक लगइरहक छन पणडतजलई सततम दख दएर तयसत दवय फल कह पइनछम कलपनक परदम दखद कथलखक ठल परहत बज कथवचक सन परहत बज दव नरवसतर हन थल तनल सवभमनक वसतर उतर तनल मरयदक वसतर उतर तनल लजजशलतक वनयशलतक यवत वसतरहर उतर य दई बजल सरवङग नरवसतर भई लभललचल भरपरण मदरम जजमनक दलम दईतर धयक पसर परतयकष दखरहक बजदवयल हतहतम सवरगक टकट बकक छन टकटक दसतर दव गरद यचन गररहक छन रशम आद कपड सब परकरक गहन गदनहर परण दकषणहरल कथवचकलई आदरसथ पज गरस सवरणदन पथवदन इतयद धर परकरक दनहरल वचक पणडतजयकन धर पणय मलस भननक नमतत सभकत पज गरस दशय मर आखअगड परखर दई बजक आकतहर मनषयरपबट लबध पश रपम फरन थल पशझ गनइरहक छन ङरङरङरङर गररहक छन लभल फज कडरहक छन जजमनहरमथ झमट मरन दउ करहक छन नरकक भयकर तरस सवरगक भरनतकर आश दखएर जजमनलई गलउन नचरन आफन कषदर मनरथ परण हन गर कमलयउन अडनम दढ छन दमग घटर गरड परण लखक ओठतल सकएर गरड परण सनएक खल हत आएर खल हत फरकनलई ह रवचकक मधयमबट आफन यवत तरसनहर तपत नहन लकषण दखर अहल बडबज सवय बरबरउन थल ह गरडवचकक पज गरनल सनतषट हनछ यसम कञचत सनदह छन ह गरडवचक सनतषट नभए परसनन हनन यसम अलकत पन सनदह छन मलई लगछ जगतक परणहरम सबभनद लभ लमपट बरल ह गरड परणक लखक बडबज वरललई पन मथ गरदनछन जगतक लभहरमधय सबभनद लभ कपटहरमधय सबभनद कपट लजजहनहरमधय सबभनद लजजहन जतवदहरमधय सबभनद जतवद नरदवषहरमधय सबभनद नरदवष परपडकहरमधय सबभनद परपडक भरम अनधकरक सरषटहरमधय सबभनद ठल सरषट भनन लयकक बडबजक गरड परण नमक अपरधगथ यह आइपगर समपत भय हर ओम ततसत'"
      ]
     },
     "execution_count": 109,
     "metadata": {},
     "output_type": "execute_result"
    }
   ],
   "source": [
    "text1 = custom_cleaning_pipeline(text)\n",
    "text1\n",
    "# text1 = custom_preprocessing_pipeline(text1);text1"
   ]
  },
  {
   "cell_type": "code",
   "execution_count": 110,
   "id": "g3eOojy4kXwf",
   "metadata": {
    "id": "g3eOojy4kXwf",
    "tags": []
   },
   "outputs": [],
   "source": [
    "from tqdm import tqdm"
   ]
  },
  {
   "cell_type": "markdown",
   "id": "ab640ae7-2b17-4db2-9a69-5f8831ad1443",
   "metadata": {},
   "source": [
    "<b><font color='red'>I tried using the entire content column to compute cosine similarity but due to the large size of td-idf vectorized matrix, I got memory error. Therefore, I will only make use of the subset of entire data to compute cosine simiarities. But, I do acknowledge that using only a subset might not result in precise recommendations. I had to make a choice between performance and accuracy, and I chose performance.|</font>"
   ]
  },
  {
   "cell_type": "code",
   "execution_count": 111,
   "id": "5f8911b6-fdcb-408b-b1d0-28f96041e833",
   "metadata": {
    "tags": []
   },
   "outputs": [],
   "source": [
    "df['complete_text'] = df.content + \" \" + df.heading#df.heading.copy()"
   ]
  },
  {
   "cell_type": "code",
   "execution_count": 112,
   "id": "7f7dff99-7ec9-496d-8cfd-5e9572b898f2",
   "metadata": {
    "tags": []
   },
   "outputs": [
    {
     "data": {
      "text/html": [
       "<div>\n",
       "<style scoped>\n",
       "    .dataframe tbody tr th:only-of-type {\n",
       "        vertical-align: middle;\n",
       "    }\n",
       "\n",
       "    .dataframe tbody tr th {\n",
       "        vertical-align: top;\n",
       "    }\n",
       "\n",
       "    .dataframe thead th {\n",
       "        text-align: right;\n",
       "    }\n",
       "</style>\n",
       "<table border=\"1\" class=\"dataframe\">\n",
       "  <thead>\n",
       "    <tr style=\"text-align: right;\">\n",
       "      <th></th>\n",
       "      <th>content</th>\n",
       "      <th>heading</th>\n",
       "      <th>main_topic</th>\n",
       "      <th>complete_text</th>\n",
       "    </tr>\n",
       "  </thead>\n",
       "  <tbody>\n",
       "    <tr>\n",
       "      <th>0</th>\n",
       "      <td>सिरहाको कल्याणपुर नगरपालिका बेल्हामा सोमबार रा...</td>\n",
       "      <td>सिरहाको बेल्हामा आगलागी, २३ लाख रुपैयाँ बराबरक...</td>\n",
       "      <td>accidents</td>\n",
       "      <td>सिरहाको कल्याणपुर नगरपालिका बेल्हामा सोमबार रा...</td>\n",
       "    </tr>\n",
       "    <tr>\n",
       "      <th>1</th>\n",
       "      <td>मङ्गलबार बर्दियाको ठाकुरबाबा नगरपालिका–३ मानपु...</td>\n",
       "      <td>नहरमा डुबेर बर्दियामा एक बालिकाको मृत्यु</td>\n",
       "      <td>accidents</td>\n",
       "      <td>मङ्गलबार बर्दियाको ठाकुरबाबा नगरपालिका–३ मानपु...</td>\n",
       "    </tr>\n",
       "    <tr>\n",
       "      <th>2</th>\n",
       "      <td>चितवनको भरतपुरमा तीन दिनदेखि बेपत्ता भएका एक व...</td>\n",
       "      <td>हराएका वृद्ध तीन दिनपछि जङ्गलमा मृत भेटिए</td>\n",
       "      <td>accidents</td>\n",
       "      <td>चितवनको भरतपुरमा तीन दिनदेखि बेपत्ता भएका एक व...</td>\n",
       "    </tr>\n",
       "    <tr>\n",
       "      <th>3</th>\n",
       "      <td>नवलपरासी पूर्व नवलपुरमा सर्पले टोकेर एक जना वृ...</td>\n",
       "      <td>सर्पले टोकेर ६८ बर्से वृद्धको मृत्यु</td>\n",
       "      <td>accidents</td>\n",
       "      <td>नवलपरासी पूर्व नवलपुरमा सर्पले टोकेर एक जना वृ...</td>\n",
       "    </tr>\n",
       "    <tr>\n",
       "      <th>4</th>\n",
       "      <td>एनेकपा माओवादीकी पूर्वसभासद् बुधनीदेवी महतोलाई...</td>\n",
       "      <td>एमाओवादीका पूर्व सभासद्‍लाई अज्ञात समूहले मरणा...</td>\n",
       "      <td>accidents</td>\n",
       "      <td>एनेकपा माओवादीकी पूर्वसभासद् बुधनीदेवी महतोलाई...</td>\n",
       "    </tr>\n",
       "    <tr>\n",
       "      <th>...</th>\n",
       "      <td>...</td>\n",
       "      <td>...</td>\n",
       "      <td>...</td>\n",
       "      <td>...</td>\n",
       "    </tr>\n",
       "    <tr>\n",
       "      <th>4495</th>\n",
       "      <td>काठमाडौं । नबिल इन्भेष्टमेन्ट बैंङ्किङको ऋणपत्...</td>\n",
       "      <td>प्रभु बैंकको ऋणपत्र निष्काशन तथा बिक्री प्रबन्...</td>\n",
       "      <td>wealth</td>\n",
       "      <td>काठमाडौं । नबिल इन्भेष्टमेन्ट बैंङ्किङको ऋणपत्...</td>\n",
       "    </tr>\n",
       "    <tr>\n",
       "      <th>4496</th>\n",
       "      <td>काठमाडौं । इजि एस्योरेन्सअन्र्तगतको इजि ट्याक्...</td>\n",
       "      <td>इजि ट्याक्सी प्रयोगकर्ताले माछापुच्छ्रे बैंकको...</td>\n",
       "      <td>wealth</td>\n",
       "      <td>काठमाडौं । इजि एस्योरेन्सअन्र्तगतको इजि ट्याक्...</td>\n",
       "    </tr>\n",
       "    <tr>\n",
       "      <th>4497</th>\n",
       "      <td>काठमाडौं । लामो रस्साकस्सीपछि अन्ततः सरकार एउट...</td>\n",
       "      <td>असोज १ देखि लामो रुटका सवारीसाधन सञ्चालन होला ?</td>\n",
       "      <td>wealth</td>\n",
       "      <td>काठमाडौं । लामो रस्साकस्सीपछि अन्ततः सरकार एउट...</td>\n",
       "    </tr>\n",
       "    <tr>\n",
       "      <th>4498</th>\n",
       "      <td>ललितपुर– विश्वप्रख्यात कोरियन गाडी उत्पादक कम्...</td>\n",
       "      <td>जाउलाखेलमा किया मोटर्सको अत्याधुनिक शोरुम संचा...</td>\n",
       "      <td>wealth</td>\n",
       "      <td>ललितपुर– विश्वप्रख्यात कोरियन गाडी उत्पादक कम्...</td>\n",
       "    </tr>\n",
       "    <tr>\n",
       "      <th>4499</th>\n",
       "      <td>काठमाडौं– तपाई मोबाइल नेटवर्क नभएको स्थानमा जा...</td>\n",
       "      <td>नेपाल टेलिकमको मिस्ड कल अलर्ट सेवा, अब कुनै पन...</td>\n",
       "      <td>wealth</td>\n",
       "      <td>काठमाडौं– तपाई मोबाइल नेटवर्क नभएको स्थानमा जा...</td>\n",
       "    </tr>\n",
       "  </tbody>\n",
       "</table>\n",
       "<p>4500 rows × 4 columns</p>\n",
       "</div>"
      ],
      "text/plain": [
       "                                                content  \\\n",
       "0     सिरहाको कल्याणपुर नगरपालिका बेल्हामा सोमबार रा...   \n",
       "1     मङ्गलबार बर्दियाको ठाकुरबाबा नगरपालिका–३ मानपु...   \n",
       "2     चितवनको भरतपुरमा तीन दिनदेखि बेपत्ता भएका एक व...   \n",
       "3     नवलपरासी पूर्व नवलपुरमा सर्पले टोकेर एक जना वृ...   \n",
       "4     एनेकपा माओवादीकी पूर्वसभासद् बुधनीदेवी महतोलाई...   \n",
       "...                                                 ...   \n",
       "4495  काठमाडौं । नबिल इन्भेष्टमेन्ट बैंङ्किङको ऋणपत्...   \n",
       "4496  काठमाडौं । इजि एस्योरेन्सअन्र्तगतको इजि ट्याक्...   \n",
       "4497  काठमाडौं । लामो रस्साकस्सीपछि अन्ततः सरकार एउट...   \n",
       "4498  ललितपुर– विश्वप्रख्यात कोरियन गाडी उत्पादक कम्...   \n",
       "4499  काठमाडौं– तपाई मोबाइल नेटवर्क नभएको स्थानमा जा...   \n",
       "\n",
       "                                                heading main_topic  \\\n",
       "0     सिरहाको बेल्हामा आगलागी, २३ लाख रुपैयाँ बराबरक...  accidents   \n",
       "1              नहरमा डुबेर बर्दियामा एक बालिकाको मृत्यु  accidents   \n",
       "2             हराएका वृद्ध तीन दिनपछि जङ्गलमा मृत भेटिए  accidents   \n",
       "3                  सर्पले टोकेर ६८ बर्से वृद्धको मृत्यु  accidents   \n",
       "4     एमाओवादीका पूर्व सभासद्‍लाई अज्ञात समूहले मरणा...  accidents   \n",
       "...                                                 ...        ...   \n",
       "4495  प्रभु बैंकको ऋणपत्र निष्काशन तथा बिक्री प्रबन्...     wealth   \n",
       "4496  इजि ट्याक्सी प्रयोगकर्ताले माछापुच्छ्रे बैंकको...     wealth   \n",
       "4497    असोज १ देखि लामो रुटका सवारीसाधन सञ्चालन होला ?     wealth   \n",
       "4498  जाउलाखेलमा किया मोटर्सको अत्याधुनिक शोरुम संचा...     wealth   \n",
       "4499  नेपाल टेलिकमको मिस्ड कल अलर्ट सेवा, अब कुनै पन...     wealth   \n",
       "\n",
       "                                          complete_text  \n",
       "0     सिरहाको कल्याणपुर नगरपालिका बेल्हामा सोमबार रा...  \n",
       "1     मङ्गलबार बर्दियाको ठाकुरबाबा नगरपालिका–३ मानपु...  \n",
       "2     चितवनको भरतपुरमा तीन दिनदेखि बेपत्ता भएका एक व...  \n",
       "3     नवलपरासी पूर्व नवलपुरमा सर्पले टोकेर एक जना वृ...  \n",
       "4     एनेकपा माओवादीकी पूर्वसभासद् बुधनीदेवी महतोलाई...  \n",
       "...                                                 ...  \n",
       "4495  काठमाडौं । नबिल इन्भेष्टमेन्ट बैंङ्किङको ऋणपत्...  \n",
       "4496  काठमाडौं । इजि एस्योरेन्सअन्र्तगतको इजि ट्याक्...  \n",
       "4497  काठमाडौं । लामो रस्साकस्सीपछि अन्ततः सरकार एउट...  \n",
       "4498  ललितपुर– विश्वप्रख्यात कोरियन गाडी उत्पादक कम्...  \n",
       "4499  काठमाडौं– तपाई मोबाइल नेटवर्क नभएको स्थानमा जा...  \n",
       "\n",
       "[4500 rows x 4 columns]"
      ]
     },
     "execution_count": 112,
     "metadata": {},
     "output_type": "execute_result"
    }
   ],
   "source": [
    "df"
   ]
  },
  {
   "cell_type": "code",
   "execution_count": 113,
   "id": "zPONoUfdFhyD",
   "metadata": {
    "colab": {
     "base_uri": "https://localhost:8080/"
    },
    "id": "zPONoUfdFhyD",
    "outputId": "3561434a-81a5-468e-ac17-a28dba784da8",
    "tags": []
   },
   "outputs": [
    {
     "name": "stdout",
     "output_type": "stream",
     "text": [
      "CPU times: total: 16.3 s\n",
      "Wall time: 19.7 s\n"
     ]
    }
   ],
   "source": [
    "%%time\n",
    "\n",
    "df['complete_text'] = df.complete_text.apply(lambda y : custom_cleaning_pipeline(y))"
   ]
  },
  {
   "cell_type": "code",
   "execution_count": 114,
   "id": "b2b5513c-353a-4ca6-ad80-dafca9d185b7",
   "metadata": {
    "tags": []
   },
   "outputs": [],
   "source": [
    "df_original = df.copy()"
   ]
  },
  {
   "cell_type": "code",
   "execution_count": 115,
   "id": "6b2983fc-7e8d-486c-b049-4423178643cb",
   "metadata": {
    "tags": []
   },
   "outputs": [
    {
     "data": {
      "text/html": [
       "<div>\n",
       "<style scoped>\n",
       "    .dataframe tbody tr th:only-of-type {\n",
       "        vertical-align: middle;\n",
       "    }\n",
       "\n",
       "    .dataframe tbody tr th {\n",
       "        vertical-align: top;\n",
       "    }\n",
       "\n",
       "    .dataframe thead th {\n",
       "        text-align: right;\n",
       "    }\n",
       "</style>\n",
       "<table border=\"1\" class=\"dataframe\">\n",
       "  <thead>\n",
       "    <tr style=\"text-align: right;\">\n",
       "      <th></th>\n",
       "      <th>content</th>\n",
       "      <th>heading</th>\n",
       "      <th>main_topic</th>\n",
       "      <th>complete_text</th>\n",
       "    </tr>\n",
       "  </thead>\n",
       "  <tbody>\n",
       "    <tr>\n",
       "      <th>0</th>\n",
       "      <td>सिरहाको कल्याणपुर नगरपालिका बेल्हामा सोमबार रा...</td>\n",
       "      <td>सिरहाको बेल्हामा आगलागी, २३ लाख रुपैयाँ बराबरक...</td>\n",
       "      <td>accidents</td>\n",
       "      <td>सरहक कलयणपर नगरपलक बलहम समबर रत खन पकउन गयस चह...</td>\n",
       "    </tr>\n",
       "    <tr>\n",
       "      <th>1</th>\n",
       "      <td>मङ्गलबार बर्दियाको ठाकुरबाबा नगरपालिका–३ मानपु...</td>\n",
       "      <td>नहरमा डुबेर बर्दियामा एक बालिकाको मृत्यु</td>\n",
       "      <td>accidents</td>\n",
       "      <td>मङगलबर बरदयक ठकरबब नगरपलक मनपर बसन पण ऐरक छर व...</td>\n",
       "    </tr>\n",
       "    <tr>\n",
       "      <th>2</th>\n",
       "      <td>चितवनको भरतपुरमा तीन दिनदेखि बेपत्ता भएका एक व...</td>\n",
       "      <td>हराएका वृद्ध तीन दिनपछि जङ्गलमा मृत भेटिए</td>\n",
       "      <td>accidents</td>\n",
       "      <td>चतवनक भरतपरम तन दनदख बपतत भएक वदध बधबर जङगलम म...</td>\n",
       "    </tr>\n",
       "    <tr>\n",
       "      <th>3</th>\n",
       "      <td>नवलपरासी पूर्व नवलपुरमा सर्पले टोकेर एक जना वृ...</td>\n",
       "      <td>सर्पले टोकेर ६८ बर्से वृद्धको मृत्यु</td>\n",
       "      <td>accidents</td>\n",
       "      <td>नवलपरस परव नवलपरम सरपल टकर जन वदधक मतय भएक कवस...</td>\n",
       "    </tr>\n",
       "    <tr>\n",
       "      <th>4</th>\n",
       "      <td>एनेकपा माओवादीकी पूर्वसभासद् बुधनीदेवी महतोलाई...</td>\n",
       "      <td>एमाओवादीका पूर्व सभासद्‍लाई अज्ञात समूहले मरणा...</td>\n",
       "      <td>accidents</td>\n",
       "      <td>एनकप मओवदक परवसभसद बधनदव महतलई गएरत अजञत समहल ...</td>\n",
       "    </tr>\n",
       "    <tr>\n",
       "      <th>...</th>\n",
       "      <td>...</td>\n",
       "      <td>...</td>\n",
       "      <td>...</td>\n",
       "      <td>...</td>\n",
       "    </tr>\n",
       "    <tr>\n",
       "      <th>4495</th>\n",
       "      <td>काठमाडौं । नबिल इन्भेष्टमेन्ट बैंङ्किङको ऋणपत्...</td>\n",
       "      <td>प्रभु बैंकको ऋणपत्र निष्काशन तथा बिक्री प्रबन्...</td>\n",
       "      <td>wealth</td>\n",
       "      <td>कठमड नबल इनभषटमनट बङकङक ऋणपतर नषकशन तथ बकर परब...</td>\n",
       "    </tr>\n",
       "    <tr>\n",
       "      <th>4496</th>\n",
       "      <td>काठमाडौं । इजि एस्योरेन्सअन्र्तगतको इजि ट्याक्...</td>\n",
       "      <td>इजि ट्याक्सी प्रयोगकर्ताले माछापुच्छ्रे बैंकको...</td>\n",
       "      <td>wealth</td>\n",
       "      <td>कठमड इज एसयरनसअनरतगतक इज टयकसल मछपचछर बकसग वयव...</td>\n",
       "    </tr>\n",
       "    <tr>\n",
       "      <th>4497</th>\n",
       "      <td>काठमाडौं । लामो रस्साकस्सीपछि अन्ततः सरकार एउट...</td>\n",
       "      <td>असोज १ देखि लामो रुटका सवारीसाधन सञ्चालन होला ?</td>\n",
       "      <td>wealth</td>\n",
       "      <td>कठमड लम रससकससपछ अनतत सरकर एउट नरणयम पगक उपतयक...</td>\n",
       "    </tr>\n",
       "    <tr>\n",
       "      <th>4498</th>\n",
       "      <td>ललितपुर– विश्वप्रख्यात कोरियन गाडी उत्पादक कम्...</td>\n",
       "      <td>जाउलाखेलमा किया मोटर्सको अत्याधुनिक शोरुम संचा...</td>\n",
       "      <td>wealth</td>\n",
       "      <td>ललतपर वशवपरखयत करयन गड उतपदक कमपन कय मटरसल ललत...</td>\n",
       "    </tr>\n",
       "    <tr>\n",
       "      <th>4499</th>\n",
       "      <td>काठमाडौं– तपाई मोबाइल नेटवर्क नभएको स्थानमा जा...</td>\n",
       "      <td>नेपाल टेलिकमको मिस्ड कल अलर्ट सेवा, अब कुनै पन...</td>\n",
       "      <td>wealth</td>\n",
       "      <td>कठमड तपई मबइल नटवरक नभएक सथनम जद हनहनछबयटर सकए...</td>\n",
       "    </tr>\n",
       "  </tbody>\n",
       "</table>\n",
       "<p>4500 rows × 4 columns</p>\n",
       "</div>"
      ],
      "text/plain": [
       "                                                content  \\\n",
       "0     सिरहाको कल्याणपुर नगरपालिका बेल्हामा सोमबार रा...   \n",
       "1     मङ्गलबार बर्दियाको ठाकुरबाबा नगरपालिका–३ मानपु...   \n",
       "2     चितवनको भरतपुरमा तीन दिनदेखि बेपत्ता भएका एक व...   \n",
       "3     नवलपरासी पूर्व नवलपुरमा सर्पले टोकेर एक जना वृ...   \n",
       "4     एनेकपा माओवादीकी पूर्वसभासद् बुधनीदेवी महतोलाई...   \n",
       "...                                                 ...   \n",
       "4495  काठमाडौं । नबिल इन्भेष्टमेन्ट बैंङ्किङको ऋणपत्...   \n",
       "4496  काठमाडौं । इजि एस्योरेन्सअन्र्तगतको इजि ट्याक्...   \n",
       "4497  काठमाडौं । लामो रस्साकस्सीपछि अन्ततः सरकार एउट...   \n",
       "4498  ललितपुर– विश्वप्रख्यात कोरियन गाडी उत्पादक कम्...   \n",
       "4499  काठमाडौं– तपाई मोबाइल नेटवर्क नभएको स्थानमा जा...   \n",
       "\n",
       "                                                heading main_topic  \\\n",
       "0     सिरहाको बेल्हामा आगलागी, २३ लाख रुपैयाँ बराबरक...  accidents   \n",
       "1              नहरमा डुबेर बर्दियामा एक बालिकाको मृत्यु  accidents   \n",
       "2             हराएका वृद्ध तीन दिनपछि जङ्गलमा मृत भेटिए  accidents   \n",
       "3                  सर्पले टोकेर ६८ बर्से वृद्धको मृत्यु  accidents   \n",
       "4     एमाओवादीका पूर्व सभासद्‍लाई अज्ञात समूहले मरणा...  accidents   \n",
       "...                                                 ...        ...   \n",
       "4495  प्रभु बैंकको ऋणपत्र निष्काशन तथा बिक्री प्रबन्...     wealth   \n",
       "4496  इजि ट्याक्सी प्रयोगकर्ताले माछापुच्छ्रे बैंकको...     wealth   \n",
       "4497    असोज १ देखि लामो रुटका सवारीसाधन सञ्चालन होला ?     wealth   \n",
       "4498  जाउलाखेलमा किया मोटर्सको अत्याधुनिक शोरुम संचा...     wealth   \n",
       "4499  नेपाल टेलिकमको मिस्ड कल अलर्ट सेवा, अब कुनै पन...     wealth   \n",
       "\n",
       "                                          complete_text  \n",
       "0     सरहक कलयणपर नगरपलक बलहम समबर रत खन पकउन गयस चह...  \n",
       "1     मङगलबर बरदयक ठकरबब नगरपलक मनपर बसन पण ऐरक छर व...  \n",
       "2     चतवनक भरतपरम तन दनदख बपतत भएक वदध बधबर जङगलम म...  \n",
       "3     नवलपरस परव नवलपरम सरपल टकर जन वदधक मतय भएक कवस...  \n",
       "4     एनकप मओवदक परवसभसद बधनदव महतलई गएरत अजञत समहल ...  \n",
       "...                                                 ...  \n",
       "4495  कठमड नबल इनभषटमनट बङकङक ऋणपतर नषकशन तथ बकर परब...  \n",
       "4496  कठमड इज एसयरनसअनरतगतक इज टयकसल मछपचछर बकसग वयव...  \n",
       "4497  कठमड लम रससकससपछ अनतत सरकर एउट नरणयम पगक उपतयक...  \n",
       "4498  ललतपर वशवपरखयत करयन गड उतपदक कमपन कय मटरसल ललत...  \n",
       "4499  कठमड तपई मबइल नटवरक नभएक सथनम जद हनहनछबयटर सकए...  \n",
       "\n",
       "[4500 rows x 4 columns]"
      ]
     },
     "execution_count": 115,
     "metadata": {},
     "output_type": "execute_result"
    }
   ],
   "source": [
    "df"
   ]
  },
  {
   "cell_type": "code",
   "execution_count": 116,
   "id": "1a88d005-76c5-4629-a369-9e40f00d52e4",
   "metadata": {
    "tags": []
   },
   "outputs": [],
   "source": [
    "# Saving the array\n",
    "np.save('SampleData.npy', df.values)\n",
    "\n",
    "# loaded_array = np.load('SampleData.npy', allow_pickle = True)"
   ]
  },
  {
   "cell_type": "code",
   "execution_count": 119,
   "id": "74f8ed4e-a89a-479c-8e33-727a94e4cefc",
   "metadata": {
    "tags": []
   },
   "outputs": [],
   "source": [
    "# import pickle\n",
    "# pickle.dump(df.values, open('SampleData.pkl', 'wb'))"
   ]
  },
  {
   "cell_type": "code",
   "execution_count": 120,
   "id": "fd3dbb6b-407f-4c1d-b2af-6ef50355c40a",
   "metadata": {
    "tags": []
   },
   "outputs": [
    {
     "data": {
      "text/plain": [
       "0       सरहक कलयणपर नगरपलक बलहम समबर रत खन पकउन गयस चह...\n",
       "1       मङगलबर बरदयक ठकरबब नगरपलक मनपर बसन पण ऐरक छर व...\n",
       "2       चतवनक भरतपरम तन दनदख बपतत भएक वदध बधबर जङगलम म...\n",
       "3       नवलपरस परव नवलपरम सरपल टकर जन वदधक मतय भएक कवस...\n",
       "4       एनकप मओवदक परवसभसद बधनदव महतलई गएरत अजञत समहल ...\n",
       "                              ...                        \n",
       "4495    कठमड नबल इनभषटमनट बङकङक ऋणपतर नषकशन तथ बकर परब...\n",
       "4496    कठमड इज एसयरनसअनरतगतक इज टयकसल मछपचछर बकसग वयव...\n",
       "4497    कठमड लम रससकससपछ अनतत सरकर एउट नरणयम पगक उपतयक...\n",
       "4498    ललतपर वशवपरखयत करयन गड उतपदक कमपन कय मटरसल ललत...\n",
       "4499    कठमड तपई मबइल नटवरक नभएक सथनम जद हनहनछबयटर सकए...\n",
       "Name: complete_text, Length: 4500, dtype: object"
      ]
     },
     "execution_count": 120,
     "metadata": {},
     "output_type": "execute_result"
    }
   ],
   "source": [
    "df['complete_text']"
   ]
  },
  {
   "cell_type": "code",
   "execution_count": 121,
   "id": "6332a46a-b313-40a9-b447-130bd5b13d8f",
   "metadata": {
    "tags": []
   },
   "outputs": [],
   "source": [
    "from sklearn.feature_extraction.text import TfidfVectorizer\n",
    "import numpy as np"
   ]
  },
  {
   "cell_type": "markdown",
   "id": "88ca15ee-406c-4465-b865-65cea91bbb56",
   "metadata": {},
   "source": [
    "Computers don't understand text. We need to convert them into numerical form before feeding the texutal data into our model. There are several ways we can perform encoding with each method having its own advantages and disadvantages.\n",
    "\n",
    "I will make use of TF-IDF Vectorizer, also known as Term Frequency - Inverse Document Frequency Vectorizer, to convert text data into numeric form.\n",
    "\n",
    "The TF-IDF vectorizer computes the TF-IDF scores for each term (word) in a given corpus of documents. It represents each document as a vector, where each element corresponds to the TF-IDF score of a term in that document. The TF-IDF score reflects the importance of a term in a document relative to the entire corpus.\n",
    "\n"
   ]
  },
  {
   "cell_type": "code",
   "execution_count": 122,
   "id": "4213489c-3dd8-42b7-9f2e-edc408287c48",
   "metadata": {
    "tags": []
   },
   "outputs": [
    {
     "name": "stdout",
     "output_type": "stream",
     "text": [
      "CPU times: total: 1.41 s\n",
      "Wall time: 1.47 s\n"
     ]
    }
   ],
   "source": [
    "%%time\n",
    "\n",
    "# Compute TF-IDF vectors for the entire dataset\n",
    "'''\n",
    "By setting max_features to a specific value, we can ensure that only the most important words, up to the specified \n",
    "limit, are considered for the TF-IDF vectorization process. \n",
    "This helps in reducing the dimensionality of the data and focusing on the most informative terms.\n",
    "\n",
    "Remember that choosing an appropriate value for max_features is crucial, as it impacts the balance between \n",
    "information retention and dimensionality reduction. we may need to experiment with different values to find \n",
    "the optimal balance for your dataset and recommendation system.\n",
    "'''\n",
    "vectorizer = TfidfVectorizer(max_features = 250)\n",
    "tfidf_matrix = vectorizer.fit_transform(df['complete_text'])"
   ]
  },
  {
   "cell_type": "code",
   "execution_count": 123,
   "id": "e57d2531-2d4d-4228-b453-074e8bab61fc",
   "metadata": {
    "tags": []
   },
   "outputs": [
    {
     "data": {
      "text/plain": [
       "<4500x250 sparse matrix of type '<class 'numpy.float64'>'\n",
       "\twith 218630 stored elements in Compressed Sparse Row format>"
      ]
     },
     "execution_count": 123,
     "metadata": {},
     "output_type": "execute_result"
    }
   ],
   "source": [
    "tfidf_matrix"
   ]
  },
  {
   "cell_type": "code",
   "execution_count": 124,
   "id": "2b6feed7-65da-4565-aa52-737577a97649",
   "metadata": {
    "tags": []
   },
   "outputs": [],
   "source": [
    "from sklearn.metrics.pairwise import cosine_similarity"
   ]
  },
  {
   "cell_type": "code",
   "execution_count": 125,
   "id": "06c6b374-fa62-4cc7-8a13-0f5e719ae0fd",
   "metadata": {
    "tags": []
   },
   "outputs": [
    {
     "name": "stdout",
     "output_type": "stream",
     "text": [
      "CPU times: total: 984 ms\n",
      "Wall time: 1.08 s\n"
     ]
    }
   ],
   "source": [
    "%%time\n",
    "\n",
    "# Calculate cosine similarities between the user input vector and the TF-IDF matrix\n",
    "cosine_similarities = cosine_similarity(tfidf_matrix)"
   ]
  },
  {
   "cell_type": "code",
   "execution_count": 126,
   "id": "72b0f491-549a-4429-b260-d1d6bee09afa",
   "metadata": {
    "tags": []
   },
   "outputs": [
    {
     "data": {
      "text/plain": [
       "(4500, 4500)"
      ]
     },
     "execution_count": 126,
     "metadata": {},
     "output_type": "execute_result"
    }
   ],
   "source": [
    "cosine_similarities.shape"
   ]
  },
  {
   "cell_type": "code",
   "execution_count": 127,
   "id": "cd70bc44-52c3-4e72-824d-738218c57725",
   "metadata": {
    "tags": []
   },
   "outputs": [],
   "source": [
    "np.save('cosine_similarities.npy', cosine_similarities)"
   ]
  },
  {
   "cell_type": "code",
   "execution_count": 129,
   "id": "a85be34a-ecb4-44b4-b527-044843febce1",
   "metadata": {
    "tags": []
   },
   "outputs": [
    {
     "data": {
      "text/plain": [
       "'आफूले चलाएको कार दुर्घटना हुँदा भक्तपुरमा गएराति एक जनाको मृत्यु भएको छ। सूर्यविनायक नगरपालिका–८ नैचालबाट आशापुरी हुँदै डोलेश्वरतर्फ जाँदै गरेको बा ८ च २४३१ नम्बरको मारुती कार सडकबाट करिब ५०० मिटर तल खोल्छामा खसेर दुर्घटना भएको हो। दुर्घटनामा कारका चालक सूर्यविनायक–९ नलिन्चोक घर भई हाल काभ्रे जनगाल बस्ने ४० वर्षीय जीतेन्द्र खत्रीको घटनास्थलमै मृत्यु भएको प्रहरी वृत्त जगातीले जानकारी दिएको छ। शव परीक्षणका लागि भक्तपुर अस्पताल पठाइएको प्रहरी वृत्त जगातीका प्रहरी नायब उपरीक्षक दीपक श्रेष्ठले जानकारी दिए। रासस'"
      ]
     },
     "execution_count": 129,
     "metadata": {},
     "output_type": "execute_result"
    }
   ],
   "source": [
    "random_heading = df_original.content.sample(1, random_state = 2).values[0];random_heading"
   ]
  },
  {
   "cell_type": "code",
   "execution_count": 130,
   "id": "4e0c2217-1a25-4cac-9af2-89ae22abe87d",
   "metadata": {
    "tags": []
   },
   "outputs": [
    {
     "name": "stdin",
     "output_type": "stream",
     "text": [
      "Enter the News::  'आफूले चलाएको कार दुर्घटना हुँदा भक्तपुरमा गएराति एक जनाको मृत्यु भएको छ। सूर्यविनायक नगरपालिका–८ नैचालबाट आशापुरी हुँदै डोलेश्वरतर्फ जाँदै गरेको बा ८ च २४३१ नम्बरको मारुती कार सडकबाट करिब ५०० मिटर तल खोल्छामा खसेर दुर्घटना भएको हो। दुर्घटनामा कारका चालक सूर्यविनायक–९ नलिन्चोक घर भई हाल काभ्रे जनगाल बस्ने ४० वर्षीय जीतेन्द्र खत्रीको घटनास्थलमै मृत्यु भएको प्रहरी वृत्त जगातीले जानकारी दिएको छ। शव परीक्षणका लागि भक्तपुर अस्पताल पठाइएको प्रहरी वृत्त जगातीका प्रहरी नायब उपरीक्षक दीपक श्रेष्ठले जानकारी दिए। रासस'\n"
     ]
    }
   ],
   "source": [
    "news = input(\"Enter the News:: \")"
   ]
  },
  {
   "cell_type": "code",
   "execution_count": 131,
   "id": "dcc13074-f985-41da-b553-67f5fb548649",
   "metadata": {
    "tags": []
   },
   "outputs": [],
   "source": [
    "news = custom_cleaning_pipeline(news)"
   ]
  },
  {
   "cell_type": "markdown",
   "id": "e936d968-e209-4de1-a743-ce4fc14671a9",
   "metadata": {},
   "source": [
    "<B> I will make use of difflib module to get the most similar text in the dataset for the inputted text. After getting the most similar text in the dataset, I will use its index position to get the top k other data that are most similar to the inputted text."
   ]
  },
  {
   "cell_type": "code",
   "execution_count": 133,
   "id": "db0c423a-6396-40db-9403-f596456c7407",
   "metadata": {
    "tags": []
   },
   "outputs": [],
   "source": [
    "import difflib"
   ]
  },
  {
   "cell_type": "code",
   "execution_count": 136,
   "id": "e14ab1a8-55bb-4098-8bb0-359e6727c5b4",
   "metadata": {
    "tags": []
   },
   "outputs": [],
   "source": [
    "all_news = df.complete_text.values"
   ]
  },
  {
   "cell_type": "code",
   "execution_count": 137,
   "id": "a0440ea1-def9-4864-b932-29bed6bd2977",
   "metadata": {
    "tags": []
   },
   "outputs": [
    {
     "name": "stdout",
     "output_type": "stream",
     "text": [
      "CPU times: total: 1.27 s\n",
      "Wall time: 1.55 s\n"
     ]
    },
    {
     "data": {
      "text/plain": [
       "'आफल चलएक कर दरघटन हद भकतपरम गएरत जनक मतय भएक सरयवनयक नगरपलक नचलबट आशपर हद डलशवरतरफ जद गरक ब च नमबरक मरत कर सडकबट करब मटर खलछम खसर दरघटन भएक ह दरघटनम करक चलक सरयवनयक नलनचक घर भई हल कभर जनगल बसन वरषय जतनदर खतरक घटनसथलम मतय भएक परहर वतत जगतल जनकर दएक शव परकषणक लग भकतपर असपतल पठइएक परहर वतत जगतक परहर नयब उपरकषक दपक शरषठल जनकर दए रसस सरयवनयकम कर दरघटन चलकक मतय'"
      ]
     },
     "execution_count": 137,
     "metadata": {},
     "output_type": "execute_result"
    }
   ],
   "source": [
    "%%time\n",
    "\n",
    "detecting_similar_news = difflib.get_close_matches(news, all_news)[0]\n",
    "detecting_similar_news"
   ]
  },
  {
   "cell_type": "code",
   "execution_count": 138,
   "id": "07143746-492f-40fd-8b0d-ce2682b90a8c",
   "metadata": {
    "tags": []
   },
   "outputs": [
    {
     "data": {
      "text/plain": [
       "'आफल चलएक कर दरघटन हद भकतपरम गएरत जनक मतय भएक सरयवनयक नगरपलक नचलबट आशपर हद डलशवरतरफ जद गरक ब च नमबरक मरत कर सडकबट करब मटर खलछम खसर दरघटन भएक ह दरघटनम करक चलक सरयवनयक नलनचक घर भई हल कभर जनगल बसन वरषय जतनदर खतरक घटनसथलम मतय भएक परहर वतत जगतल जनकर दएक शव परकषणक लग भकतपर असपतल पठइएक परहर वतत जगतक परहर नयब उपरकषक दपक शरषठल जनकर दए रसस सरयवनयकम कर दरघटन चलकक मतय'"
      ]
     },
     "execution_count": 138,
     "metadata": {},
     "output_type": "execute_result"
    }
   ],
   "source": [
    "detecting_similar_news"
   ]
  },
  {
   "cell_type": "code",
   "execution_count": 140,
   "id": "9a847d6f-7864-4733-ad0a-2e91adca2ad5",
   "metadata": {
    "tags": []
   },
   "outputs": [
    {
     "data": {
      "text/plain": [
       "35"
      ]
     },
     "execution_count": 140,
     "metadata": {},
     "output_type": "execute_result"
    }
   ],
   "source": [
    "# finding the index of the news\n",
    "index_of_the_news = df[df.complete_text == detecting_similar_news].index.values[0]\n",
    "index_of_the_news"
   ]
  },
  {
   "cell_type": "code",
   "execution_count": 141,
   "id": "cec16125-3032-4343-b548-491673d4d68c",
   "metadata": {
    "tags": []
   },
   "outputs": [],
   "source": [
    "# Calculating the similar news' indexes and their similarity values in a tuple inside another list\n",
    "similarity_score = list(enumerate(cosine_similarities[index_of_the_news]))"
   ]
  },
  {
   "cell_type": "code",
   "execution_count": 150,
   "id": "3efb77f7-71cc-485f-94f4-37120f9ca10c",
   "metadata": {
    "tags": []
   },
   "outputs": [],
   "source": [
    "# Sorting the previous List in accordance to their similarity score using Scored Function\n",
    "sorted_similar_news = sorted(similarity_score, key = lambda x : x[1], reverse = True) \n",
    "sorted_similar_news.remove(sorted_similar_news[0]) # the first element is the same as the input text"
   ]
  },
  {
   "cell_type": "code",
   "execution_count": 151,
   "id": "3c0646cb-5d45-4310-bd96-7dfcd8b5f1d7",
   "metadata": {
    "tags": []
   },
   "outputs": [
    {
     "name": "stdin",
     "output_type": "stream",
     "text": [
      "How many news would you wish to be recommended? 5\n"
     ]
    }
   ],
   "source": [
    "while True:\n",
    "    try:\n",
    "        n = int(input('How many news would you wish to be recommended?'))\n",
    "        break\n",
    "    except:\n",
    "        print(\"Please! Enter a Number\")"
   ]
  },
  {
   "cell_type": "code",
   "execution_count": 152,
   "id": "f1630c34-66d0-43a2-bfc5-b416af6554f1",
   "metadata": {
    "tags": []
   },
   "outputs": [
    {
     "data": {
      "text/plain": [
       "[0.7918164523067426,\n",
       " 0.7757754988269748,\n",
       " 0.7721427949221349,\n",
       " 0.7721104091735423,\n",
       " 0.7624498443237119]"
      ]
     },
     "execution_count": 152,
     "metadata": {},
     "output_type": "execute_result"
    }
   ],
   "source": [
    "[i[1] for i in sorted_similar_news[:n]]"
   ]
  },
  {
   "cell_type": "code",
   "execution_count": 153,
   "id": "d120649d-90a2-4321-83cd-c6748ee2b45c",
   "metadata": {
    "tags": []
   },
   "outputs": [
    {
     "data": {
      "text/html": [
       "<div>\n",
       "<style scoped>\n",
       "    .dataframe tbody tr th:only-of-type {\n",
       "        vertical-align: middle;\n",
       "    }\n",
       "\n",
       "    .dataframe tbody tr th {\n",
       "        vertical-align: top;\n",
       "    }\n",
       "\n",
       "    .dataframe thead th {\n",
       "        text-align: right;\n",
       "    }\n",
       "</style>\n",
       "<table border=\"1\" class=\"dataframe\">\n",
       "  <thead>\n",
       "    <tr style=\"text-align: right;\">\n",
       "      <th></th>\n",
       "      <th>content</th>\n",
       "      <th>heading</th>\n",
       "      <th>main_topic</th>\n",
       "      <th>complete_text</th>\n",
       "    </tr>\n",
       "  </thead>\n",
       "  <tbody>\n",
       "    <tr>\n",
       "      <th>84</th>\n",
       "      <td>मध्यपुर थिमि नगरपालिका–३ गठ्ठाघरमा गएराति १ बज...</td>\n",
       "      <td>टिपरको ठक्करबाट मोटरसाइकल चालकको मृत्यु</td>\n",
       "      <td>accidents</td>\n",
       "      <td>मधयपर थम नगरपलक गठठघरम गएरत बज टपरल ठककर दद मट...</td>\n",
       "    </tr>\n",
       "    <tr>\n",
       "      <th>146</th>\n",
       "      <td>निस्दी गाउँपालिका-७ ज्यामिरेमा टिपर दुर्घटना ह...</td>\n",
       "      <td>सामानसहितको टिपर दुर्घटना हुँदा चालकको मृत्यु</td>\n",
       "      <td>accidents</td>\n",
       "      <td>नसद गउपलक जयमरम टपर दरघटन हद चलकक मगलवर मतय भए...</td>\n",
       "    </tr>\n",
       "    <tr>\n",
       "      <th>2699</th>\n",
       "      <td>टिपरको ठक्करबाट ड्युटीमा खटिएका एक ट्राफिक प्र...</td>\n",
       "      <td>दुईवटा टिपर जुध्दा ट्राफिकका सईको मृत्यु! चालक...</td>\n",
       "      <td>national</td>\n",
       "      <td>टपरक ठककरबट डयटम खटएक टरफक परहरक मतय भएक भकतपर...</td>\n",
       "    </tr>\n",
       "    <tr>\n",
       "      <th>184</th>\n",
       "      <td>पूर्वपश्चिम राजमार्ग अन्तर्गत सुनसरीको श्रीपुर...</td>\n",
       "      <td>​गाडीको ठक्करबाट प्रहरी जवानको मृत्यु</td>\n",
       "      <td>accidents</td>\n",
       "      <td>परवपशचम रजमरग अनतरगत सनसरक शरपरजबद कस कटन कषतर...</td>\n",
       "    </tr>\n",
       "    <tr>\n",
       "      <th>2721</th>\n",
       "      <td>महोत्तरीको बर्दिबासमा तेल ट्याङ्करले मोटरसाइकल...</td>\n",
       "      <td>तेल बोक्ने ट्याङ्करले मोटरसाइकललाई ठक्कर दिँदा...</td>\n",
       "      <td>national</td>\n",
       "      <td>महततरक बरदबसम टयङकरल मटरसइकललई ठककर दद मटरसइकल...</td>\n",
       "    </tr>\n",
       "  </tbody>\n",
       "</table>\n",
       "</div>"
      ],
      "text/plain": [
       "                                                content  \\\n",
       "84    मध्यपुर थिमि नगरपालिका–३ गठ्ठाघरमा गएराति १ बज...   \n",
       "146   निस्दी गाउँपालिका-७ ज्यामिरेमा टिपर दुर्घटना ह...   \n",
       "2699  टिपरको ठक्करबाट ड्युटीमा खटिएका एक ट्राफिक प्र...   \n",
       "184   पूर्वपश्चिम राजमार्ग अन्तर्गत सुनसरीको श्रीपुर...   \n",
       "2721  महोत्तरीको बर्दिबासमा तेल ट्याङ्करले मोटरसाइकल...   \n",
       "\n",
       "                                                heading main_topic  \\\n",
       "84              टिपरको ठक्करबाट मोटरसाइकल चालकको मृत्यु  accidents   \n",
       "146       सामानसहितको टिपर दुर्घटना हुँदा चालकको मृत्यु  accidents   \n",
       "2699  दुईवटा टिपर जुध्दा ट्राफिकका सईको मृत्यु! चालक...   national   \n",
       "184               ​गाडीको ठक्करबाट प्रहरी जवानको मृत्यु  accidents   \n",
       "2721  तेल बोक्ने ट्याङ्करले मोटरसाइकललाई ठक्कर दिँदा...   national   \n",
       "\n",
       "                                          complete_text  \n",
       "84    मधयपर थम नगरपलक गठठघरम गएरत बज टपरल ठककर दद मट...  \n",
       "146   नसद गउपलक जयमरम टपर दरघटन हद चलकक मगलवर मतय भए...  \n",
       "2699  टपरक ठककरबट डयटम खटएक टरफक परहरक मतय भएक भकतपर...  \n",
       "184   परवपशचम रजमरग अनतरगत सनसरक शरपरजबद कस कटन कषतर...  \n",
       "2721  महततरक बरदबसम टयङकरल मटरसइकललई ठककर दद मटरसइकल...  "
      ]
     },
     "execution_count": 153,
     "metadata": {},
     "output_type": "execute_result"
    }
   ],
   "source": [
    "df.loc[[i[0] for i in sorted_similar_news[:n]]]"
   ]
  },
  {
   "cell_type": "markdown",
   "id": "8411e1d2-f6ad-4534-953f-e542c6302a0c",
   "metadata": {},
   "source": [
    "# Custom Function to make recommendations"
   ]
  },
  {
   "cell_type": "code",
   "execution_count": 158,
   "id": "f6964ce3-8603-48fa-9573-6c7ace188e64",
   "metadata": {
    "tags": []
   },
   "outputs": [],
   "source": [
    "cosine_similarities_matrix = np.load('cosine_similarities.npy', allow_pickle = True)\n",
    "data_matrix = np.load('SampleData.npy', allow_pickle = True)\n",
    "all_news = data_matrix[:, -1]\n",
    "columns = ['content', 'heading', 'main_topic', 'complete_text']"
   ]
  },
  {
   "cell_type": "code",
   "execution_count": null,
   "id": "bb613e22-636f-4323-80b6-18aaba5be46f",
   "metadata": {},
   "outputs": [],
   "source": []
  },
  {
   "cell_type": "code",
   "execution_count": 177,
   "id": "9d6c4193-0fdb-4fa0-9011-d1bc76ba83aa",
   "metadata": {
    "tags": []
   },
   "outputs": [],
   "source": [
    "def recommend_me_a_news(text, k):\n",
    "    news = custom_cleaning_pipeline(text)\n",
    "    detecting_similar_news = difflib.get_close_matches(news, all_news)[0]\n",
    "    \n",
    "    # finding the index of the news\n",
    "    index_of_the_news = df[df.complete_text == detecting_similar_news].index.values[0]\n",
    "    \n",
    "    # Calculating the similar news' indexes and their similarity values in a tuple inside another list\n",
    "    similarity_score = list(enumerate(cosine_similarities[index_of_the_news]))\n",
    "    \n",
    "    # Sorting the previous List in accordance to their similarity score using Scored Function\n",
    "    sorted_similar_news = sorted(similarity_score, key = lambda x : x[1], reverse = True) \n",
    "    sorted_similar_news.remove(sorted_similar_news[0]) # the first element is the same as the input text\n",
    "    \n",
    "    # seleting top k similarities\n",
    "    sorted_similar_news = sorted_similar_news[:k]\n",
    "    \n",
    "    indices = [i[0] for i in sorted_similar_news]\n",
    "    similarities_values = [i[1] for i in sorted_similar_news]\n",
    "    \n",
    "    return data_matrix[indices], similarities_values   "
   ]
  },
  {
   "cell_type": "code",
   "execution_count": 178,
   "id": "a0bc5cba-df58-43f2-98ee-f9abc08e55f2",
   "metadata": {
    "tags": []
   },
   "outputs": [],
   "source": [
    "a = \"आफूले चलाएको कार दुर्घटना हुँदा भक्तपुरमा गएराति एक जनाको मृत्यु भएको छ। सूर्यविनायक नगरपालिका–८ नैचालबाट आशापुरी हुँदै डोलेश्वरतर्फ जाँदै गरेको बा ८ च २४३१ नम्बरको मारुती कार सडकबाट करिब ५०० मिटर तल खोल्छामा खसेर दुर्घटना भएको हो। दुर्घटनामा कारका चालक सूर्यविनायक–९ नलिन्चोक घर भई हाल काभ्रे जनगाल बस्ने ४० वर्षीय जीतेन्द्र खत्रीको घटनास्थलमै मृत्यु भएको प्रहरी वृत्त जगातीले जानकारी दिएको छ। शव परीक्षणका लागि भक्तपुर अस्पताल पठाइएको प्रहरी वृत्त जगातीका प्रहरी नायब उपरीक्षक दीपक श्रेष्ठले जानकारी दिए। रासस\""
   ]
  },
  {
   "cell_type": "code",
   "execution_count": 179,
   "id": "ec360323-af73-409f-b1ab-23010f7de8a3",
   "metadata": {
    "tags": []
   },
   "outputs": [
    {
     "name": "stdout",
     "output_type": "stream",
     "text": [
      "CPU times: total: 1.2 s\n",
      "Wall time: 1.53 s\n"
     ]
    }
   ],
   "source": [
    "%%time\n",
    "\n",
    "recommendations, similarities_values = recommend_me_a_news(a, 3)"
   ]
  },
  {
   "cell_type": "markdown",
   "id": "f900fa92-ea45-4b9d-b7e5-ac37494ad382",
   "metadata": {},
   "source": [
    "### Recommendation for highest similar news"
   ]
  },
  {
   "cell_type": "code",
   "execution_count": 187,
   "id": "4faaca25-7a19-432b-93cf-8b1a46010e92",
   "metadata": {
    "tags": []
   },
   "outputs": [
    {
     "name": "stdout",
     "output_type": "stream",
     "text": [
      "Heading:  टिपरको ठक्करबाट मोटरसाइकल चालकको मृत्यु\n"
     ]
    }
   ],
   "source": [
    "print(\"Heading: \", recommendations[0][1])"
   ]
  },
  {
   "cell_type": "code",
   "execution_count": 188,
   "id": "ee9c3f6f-8682-475a-a974-2c261bc987f3",
   "metadata": {
    "tags": []
   },
   "outputs": [
    {
     "name": "stdout",
     "output_type": "stream",
     "text": [
      "Content:  मध्यपुर थिमि नगरपालिका–३ गठ्ठाघरमा गएराति १ बजे टिपरले ठक्कर दिँदा मोटरसाइकल चालकको मृत्यु भएको छ। मध्यराति १ बजे भक्तपुरबाट सानोठिमीतर्फ मोडिँदै गरेको बा ४ ख ८१८० नम्बरको टिपरले काठमाडौँबाट भक्तपुरतर्फ जाँदै गरेको बा ७० प ३३२३ नम्बरको मोटरसाइकललाई ठक्कर दिएको महानगरीय प्रहरी परिसर भक्तपुरका प्रहरी नायब उपरीक्षक एवम् प्रवक्ता कृष्ण प्रसाईंले जानकारी दिए। दुर्घटनामा मोटरसाइकल चालक चाँगुनारायण नगरपालिका–२ दुवाकोटका २५ वर्षीय नीरज मल्ल ठकुरीको मृत्यु भएको छ भने मोटरसाइकलमा सवार निजकै भाइ वर्ष २२ का अजय मल्ल ठकुरी गम्भीर घाइते भएका छन्। दुर्घटनापछि उपचारका लागि दुवै घाइतेलाई नागरिक अस्पताल लगिएकोमा त्यहाँ उपचार हुन नसकेपछि बिएन्डबी अस्पताल, ललितपुर लगिएको र उपचारकै क्रममा एकको मृत्यु भएको र घाइतेको उपचार भइरहेको छ। महानगरीय प्रहरी वृत्त थिमिको टोलीले टिपर र टिपर चालक सिन्धुपाल्चोक घर भई हाल चाबहिल बस्दै आएका गोविन्द गिरीलाई नियन्त्रणमा लिएको छ। रासस\n"
     ]
    }
   ],
   "source": [
    "print(\"Content: \", recommendations[0][0])"
   ]
  },
  {
   "cell_type": "code",
   "execution_count": 189,
   "id": "11f1b31e-d697-438c-ab33-ea7fc3da6849",
   "metadata": {
    "tags": []
   },
   "outputs": [
    {
     "name": "stdout",
     "output_type": "stream",
     "text": [
      "News Category:  accidents\n"
     ]
    }
   ],
   "source": [
    "print(\"News Category: \", recommendations[0][2])"
   ]
  },
  {
   "cell_type": "code",
   "execution_count": null,
   "id": "d73bbd71-dd71-458e-ac35-1f6633f15765",
   "metadata": {},
   "outputs": [],
   "source": []
  },
  {
   "cell_type": "markdown",
   "id": "d90bc790-5d58-47b3-bc9c-7ef7229c1523",
   "metadata": {},
   "source": [
    "# Conclusion"
   ]
  },
  {
   "cell_type": "markdown",
   "id": "491594fb-2d91-4afa-a370-c08fa3ce5d2e",
   "metadata": {},
   "source": [
    "There are primarily two types of recommandations:\n",
    "    1.Content-Based Filtering\n",
    "    2. Collaborative Filtering\n",
    "    \n",
    "    \n",
    "In Collaborative Filtering, recommendations are generated by finding users who have similar preferences to the target user and suggesting items that those similar users have liked or interacted with. It looks for users with similar patterns of item ratings or interactions and recommends items that have been positively rated by those similar users but haven't been seen by the target user yet.\n",
    "\n",
    "WHereas, content based filtering focuses on analyzing the properties of items rather than relying on user preferences or collaborative information. Each item is described by a set of features or attributes. These attributes can be textual, categorical, or numerical in nature. The system then creates user profiles or models based on the items the user has liked or interacted with in the past. The user profile is built by analyzing the attributes of the liked items.\n",
    "\n",
    "\n",
    "Since I don't have the data for other users about what they have liked or interacted with, I decided to perform content based recommendation. Since I already have the properties of the news as in this case I have entire news, I decided to first clean the data. After cleaning the data, I encoded the text using TF-IDF vectorizer and computed similarities of each sample against all in the dataset using cosine similarity. Finally, for a custom input text, I used difflib module to get the most similar looking text in the dataset, computed its index position and used that index position to get the most similar other index positions in the similarity matrix. FInallty, I selected to top n components and used those indices to get the most similar news respectively."
   ]
  },
  {
   "cell_type": "markdown",
   "id": "8b0c2bb7-c1bb-4f87-bc53-c04d3fc0be6c",
   "metadata": {},
   "source": [
    "<b><font color='red'>I tried using the entire content column to compute cosine similarity but due to the large size of td-idf vectorized matrix, I got memory error. Therefore, I  only made use of the subset of entire data to compute cosine simiarities. But, I do acknowledge that using only a subset might not result in precise recommendations. I had to make a choice between performance and accuracy, and I chose performance.|</font>"
   ]
  },
  {
   "cell_type": "markdown",
   "id": "Zvikko4UUQ0z",
   "metadata": {
    "id": "Zvikko4UUQ0z"
   },
   "source": [
    "# Thank you\n",
    "\n",
    "### - by Sujan Neupane"
   ]
  }
 ],
 "metadata": {
  "accelerator": "GPU",
  "colab": {
   "gpuType": "T4",
   "provenance": []
  },
  "kernelspec": {
   "display_name": "Python 3 (ipykernel)",
   "language": "python",
   "name": "python3"
  },
  "language_info": {
   "codemirror_mode": {
    "name": "ipython",
    "version": 3
   },
   "file_extension": ".py",
   "mimetype": "text/x-python",
   "name": "python",
   "nbconvert_exporter": "python",
   "pygments_lexer": "ipython3",
   "version": "3.11.3"
  }
 },
 "nbformat": 4,
 "nbformat_minor": 5
}
